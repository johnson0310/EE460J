{
 "cells": [
  {
   "cell_type": "code",
   "execution_count": 2,
   "metadata": {},
   "outputs": [],
   "source": [
    "from __future__ import division\n",
    "import numpy as np\n",
    "import matplotlib.pyplot as plt\n",
    "from sklearn import datasets, linear_model\n",
    "import pandas as pd\n",
    "from pandas import DataFrame, Series\n",
    "import seaborn as sns\n",
    "from sklearn.model_selection import train_test_split\n",
    "from sklearn.metrics import r2_score\n",
    "sns.set(style='ticks', palette='Set2')\n",
    "%matplotlib inline"
   ]
  },
  {
   "cell_type": "code",
   "execution_count": 3,
   "metadata": {},
   "outputs": [],
   "source": [
    "# Generate data\n",
    "np.random.seed(7)\n",
    "\n",
    "n_samples, n_features = 100, 200\n",
    "X = np.random.randn(n_samples, n_features)\n",
    "\n",
    "k = 5\n",
    "# beta generated with k nonzeros\n",
    "#coef = 10 * np.random.randn(n_features)\n",
    "coef = 10 * np.ones(n_features)\n",
    "inds = np.arange(n_features)\n",
    "np.random.shuffle(inds)\n",
    "coef[inds[k:]] = 0  # sparsify coef\n",
    "y = np.dot(X, coef)\n",
    "\n",
    "# add noise\n",
    "y += 0.01 * np.random.normal((n_samples,))\n",
    "\n",
    "# Split data in train set and test set\n",
    "n_samples = X.shape[0]\n",
    "X_train, y_train = X[:25], y[:25]\n",
    "X_test, y_test = X[25:], y[25:]"
   ]
  },
  {
   "cell_type": "code",
   "execution_count": 4,
   "metadata": {},
   "outputs": [],
   "source": [
    "# Problem 2"
   ]
  },
  {
   "cell_type": "code",
   "execution_count": 5,
   "metadata": {},
   "outputs": [
    {
     "name": "stdout",
     "output_type": "stream",
     "text": [
      "The order of the features is:\n",
      "[138, 79, 108, 116, 166, 54, 163, 89, 194, 35, 113, 131, 130, 74, 160, 154, 95, 118, 90, 103, 167, 32, 180, 26, 36, 2, 68, 162, 135, 97, 91, 52, 13, 187, 44, 192, 179, 117, 188, 144, 119, 37, 47, 149, 29, 127, 101, 7, 28, 139, 141, 43, 94, 146, 189, 92, 198, 129, 31, 159, 60, 99, 122, 51, 12, 110, 62, 45, 140, 64, 121, 61, 88, 115, 169, 14, 148, 3, 65, 145, 5, 120, 58, 55, 105, 171, 137, 0, 151, 181, 83, 70, 33, 143, 16, 184, 104, 4, 77, 8, 190, 153, 107, 63, 40, 170, 81, 19, 30, 75, 132, 53, 193, 158, 9, 123, 172, 136, 174, 157, 165, 84, 176, 69, 10, 100, 196, 59, 133, 18, 82, 183, 6, 76, 22, 98, 109, 1, 24, 186, 87, 93, 102, 71, 73, 199, 48, 85, 39, 86, 38, 17, 66, 57, 126, 155, 164, 168, 80, 177, 25, 152, 21, 161, 124, 134, 106, 156, 46, 128, 150, 147, 111, 27, 41, 175, 185, 112, 11, 42, 23, 49, 182, 56, 34, 125, 197, 195, 78, 67, 191, 173, 114, 20, 142, 50, 72, 178, 15, 96]\n"
     ]
    }
   ],
   "source": [
    "#2.1\n",
    "#Step forward feature selection starts with the evaluation of each individual feature, \n",
    "#and selects that which results in the best performing selected algorithm model\n",
    "\n",
    "alpha = 0.2\n",
    "train_samples = 25\n",
    "test_samples = 75\n",
    "\n",
    "\n",
    "## Lecture 8 explains idea - we need to project y onto the feature then replace y with the residual\n",
    "# use this to find the best error\n",
    "def evaluate_feature_error(feature_train, feature_test, y_train=y_train, y_test=y_test, alpha=alpha, train_samples=train_samples, test_samples=test_samples):\n",
    "    bias = alpha*np.eye(feature_train.shape[1])\n",
    "    inverse = np.linalg.inv(np.dot(feature_train.T, feature_train)) + bias\n",
    "    proj_1 = np.dot(feature_train.T, np.reshape(y_train, (train_samples,1)))\n",
    "    beta_hat = np.dot(inverse, proj_1)\n",
    "    proj_2 = np.reshape(y_test, (test_samples,1))\n",
    "    error_vec = proj_2 - np.dot(feature_test, beta_hat)\n",
    "    \n",
    "    return np.linalg.norm(error_vec, ord=2)**2\n",
    "\n",
    "\n",
    "    \n",
    "\n",
    "feature_selection = []\n",
    "errors = [None for i in range(0,n_features)]\n",
    "best_scores = [] # best scores will save all the minimum errors from the feature selection\n",
    "\n",
    "train_shape = (train_samples, 1)\n",
    "test_shape = (test_samples, 1) \n",
    "\n",
    "for i in range(0, n_features):\n",
    "    \n",
    "    bias_train = np.ones(train_shape)\n",
    "    bias_test = np.ones(test_shape)\n",
    "    \n",
    "    if len(feature_selection) == 0:\n",
    "        X_feat_train = bias_train\n",
    "        X_feat_test = bias_test\n",
    "        \n",
    "    else:\n",
    "    \n",
    "        for old_feat in feature_selection:\n",
    "        \n",
    "            old_feat_train = np.reshape(X_train[:,old_feat], train_shape)\n",
    "            old_feat_test = np.reshape(X_test[:,old_feat], test_shape)\n",
    "            X_feat_train = np.hstack((bias_train, old_feat_train))\n",
    "            X_feat_test = np.hstack((bias_test, old_feat_test))\n",
    "            \n",
    "            \n",
    "    for new_feat in range(0, n_features):\n",
    "        if new_feat not in feature_selection:\n",
    "            \n",
    "            new_feat_train = np.reshape(X_train[:,new_feat], train_shape)\n",
    "            new_feat_test = np.reshape(X_test[:,new_feat], test_shape)\n",
    "                \n",
    "            feature_train = np.hstack((X_feat_train, new_feat_train))\n",
    "            feature_test = np.hstack((X_feat_test, new_feat_test))\n",
    "                \n",
    "            errors[new_feat] = evaluate_feature_error(feature_train, feature_test)\n",
    "                \n",
    "        \n",
    "    min_error = min([i for i in errors if i is not None])\n",
    "    selected_feature = errors.index(min_error)\n",
    "   # print(selected_feature)\n",
    "    feature_selection.append(selected_feature)\n",
    "    best_scores.append(min_error)\n",
    "    errors = [None for i in range(0,n_features)] # reset the errors\n",
    "            \n",
    "\n",
    "print(\"The order of the features is:\")\n",
    "print(feature_selection)\n",
    "\n",
    "#print(len(feature_selection) == len(set(feature_selection)))"
   ]
  },
  {
   "cell_type": "code",
   "execution_count": 6,
   "metadata": {
    "scrolled": true
   },
   "outputs": [
    {
     "name": "stdout",
     "output_type": "stream",
     "text": [
      "We can use this to recover the true support. We need to find the feature with the minimal test-error\n",
      "Index 1 error = 30052.233103646933\n"
     ]
    },
    {
     "data": {
      "image/png": "[encoded data removed]",
      "text/plain": [
       "<Figure size 432x288 with 1 Axes>"
      ]
     },
     "metadata": {
      "needs_background": "light"
     },
     "output_type": "display_data"
    }
   ],
   "source": [
    "#2.2\n",
    "#Plot test error as a function of the size of the support.  Can you use this to recover the true support?\n",
    "\n",
    "txt = plt.plot(best_scores)\n",
    "txt = plt.xlabel(\"Size of Support\")\n",
    "txt = plt.ylabel(\"Test Error\")\n",
    "txt = plt.title(\"Error as a function of the size of the support\")\n",
    "\n",
    "print(\"We can use this to recover the true support. We need to find the feature with the minimal test-error\")\n",
    "print(\"Index \" + str(best_scores.index(min(best_scores))) +  \" error = \" + str(min(best_scores)))"
   ]
  },
  {
   "cell_type": "code",
   "execution_count": 7,
   "metadata": {},
   "outputs": [
    {
     "name": "stdout",
     "output_type": "stream",
     "text": [
      "Best Alpha: {'alpha': 0.0028072162039411755}\n",
      "-2.903 (+/-5.040) for {'alpha': 0.0001}\n",
      "-2.903 (+/-5.039) for {'alpha': 0.00013203517797162948}\n",
      "-2.903 (+/-5.039) for {'alpha': 0.00017433288221999874}\n",
      "-2.855 (+/-4.990) for {'alpha': 0.00023018073130224678}\n",
      "-2.563 (+/-4.171) for {'alpha': 0.0003039195382313198}\n",
      "-2.222 (+/-3.186) for {'alpha': 0.0004012807031942776}\n",
      "-1.367 (+/-3.581) for {'alpha': 0.0005298316906283707}\n",
      "-0.753 (+/-2.872) for {'alpha': 0.0006995642156712634}\n",
      "-0.691 (+/-2.747) for {'alpha': 0.0009236708571873865}\n",
      "-0.455 (+/-1.938) for {'alpha': 0.0012195704601594415}\n",
      "-0.138 (+/-0.999) for {'alpha': 0.0016102620275609393}\n",
      "-0.127 (+/-1.021) for {'alpha': 0.0021261123338996556}\n",
      "-0.114 (+/-0.894) for {'alpha': 0.0028072162039411755}\n",
      "-0.168 (+/-0.914) for {'alpha': 0.0037065129109221566}\n",
      "-0.292 (+/-1.062) for {'alpha': 0.004893900918477494}\n",
      "-0.286 (+/-1.009) for {'alpha': 0.006461670787466976}\n",
      "-0.407 (+/-0.931) for {'alpha': 0.008531678524172814}\n",
      "-0.639 (+/-1.343) for {'alpha': 0.011264816923358867}\n",
      "-0.644 (+/-1.348) for {'alpha': 0.014873521072935119}\n",
      "-1.106 (+/-2.020) for {'alpha': 0.0196382800192977}\n",
      "-1.152 (+/-1.992) for {'alpha': 0.02592943797404667}\n",
      "-1.162 (+/-1.986) for {'alpha': 0.03423597957607583}\n",
      "-1.211 (+/-2.002) for {'alpha': 0.04520353656360245}\n",
      "-1.234 (+/-2.021) for {'alpha': 0.05968456995122311}\n",
      "-1.248 (+/-2.078) for {'alpha': 0.07880462815669913}\n",
      "-1.260 (+/-2.134) for {'alpha': 0.10404983103657853}\n",
      "-1.252 (+/-2.128) for {'alpha': 0.1373823795883264}\n",
      "-1.240 (+/-2.121) for {'alpha': 0.1813930693911063}\n",
      "-1.230 (+/-2.114) for {'alpha': 0.2395026619987486}\n",
      "-1.211 (+/-2.101) for {'alpha': 0.31622776601683794}\n"
     ]
    }
   ],
   "source": [
    "# 2.3\n",
    "from sklearn.model_selection import GridSearchCV\n",
    "from sklearn.metrics import classification_report\n",
    "from sklearn.linear_model import Lasso\n",
    "\n",
    "alphas = np.logspace(-4, -0.5, 30)\n",
    "lasso = Lasso(random_state=0, max_iter=10000)\n",
    "\n",
    "tuned_parameters = [{'alpha': alphas}]\n",
    "n_folds = 5\n",
    "\n",
    "clf = GridSearchCV(lasso, tuned_parameters, cv=n_folds, scoring='r2')\n",
    "\n",
    "clf.fit(X_train, y_train)\n",
    "\n",
    "print(\"Best Alpha:\", clf.best_params_)\n",
    "means = clf.cv_results_['mean_test_score']\n",
    "stds = clf.cv_results_['std_test_score']\n",
    "\n",
    "for mean, std, params in zip(means, stds, clf.cv_results_['params']):\n",
    "        print(\"%0.3f (+/-%0.03f) for %r\"\n",
    "              % (mean, std * 2, params))\n",
    "        "
   ]
  },
  {
   "cell_type": "code",
   "execution_count": 14,
   "metadata": {},
   "outputs": [
    {
     "name": "stdout",
     "output_type": "stream",
     "text": [
      "Number of folds:  3\n",
      "Best Alpha: {'alpha': 0.0021261123338996556}\n",
      "Number of folds:  4\n",
      "Best Alpha: {'alpha': 0.0021261123338996556}\n",
      "Number of folds:  5\n",
      "Best Alpha: {'alpha': 0.0028072162039411755}\n",
      "Number of folds:  6\n",
      "Best Alpha: {'alpha': 0.0021261123338996556}\n",
      "Number of folds:  7\n",
      "Best Alpha: {'alpha': 0.008531678524172814}\n",
      "Number of folds:  8\n",
      "Best Alpha: {'alpha': 0.31622776601683794}\n",
      "Number of folds:  9\n",
      "Best Alpha: {'alpha': 0.0009236708571873865}\n",
      "Number of folds:  10\n",
      "Best Alpha: {'alpha': 0.0009236708571873865}\n",
      "Number of folds:  11\n",
      "Best Alpha: {'alpha': 0.0009236708571873865}\n",
      "\n",
      "As the number of folds increases, the hyper parameter increases till it peaked at 8 folds, then it went started to decrease.\n"
     ]
    }
   ],
   "source": [
    "# 2.4\n",
    "\n",
    "best_alphas = []\n",
    "for n_fold in range(3,12):\n",
    "    print(\"Number of folds: \", n_fold)\n",
    "    clf = GridSearchCV(lasso, tuned_parameters, cv=n_fold, scoring='r2')\n",
    "    clf.fit(X_train, y_train)\n",
    "    print(\"Best Alpha:\", clf.best_params_)\n",
    "    best_alphas.append(clf.best_params_['alpha'])\n",
    "    \n",
    "print()\n",
    "print(\"As the number of folds increases, the hyper parameter increases till it peaked at 8 folds, then it went started to decrease.\")"
   ]
  },
  {
   "cell_type": "markdown",
   "metadata": {},
   "source": [
    "# 2.5\n",
    "\n",
    "LassoCV will choose a set of alphas and perform comparison searches over then, using cross-validation to generate lasso models and internally score the results. The previous step used GridsearchCV + Lasso model, which is essentially performing the same functions as LassoCV. The results from LassoCV and GridsearchCV + Lasso should agree with each other if the parameters were configured the same way."
   ]
  },
  {
   "cell_type": "code",
   "execution_count": null,
   "metadata": {},
   "outputs": [],
   "source": []
  }
 ],
 "metadata": {
  "kernelspec": {
   "display_name": "Python 3",
   "language": "python",
   "name": "python3"
  },
  "language_info": {
   "codemirror_mode": {
    "name": "ipython",
    "version": 3
   },
   "file_extension": ".py",
   "mimetype": "text/x-python",
   "name": "python",
   "nbconvert_exporter": "python",
   "pygments_lexer": "ipython3",
   "version": "3.7.6"
  }
 },
 "nbformat": 4,
 "nbformat_minor": 1
}

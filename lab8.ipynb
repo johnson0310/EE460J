{
 "cells": [
  {
   "cell_type": "code",
   "execution_count": 1,
   "metadata": {},
   "outputs": [],
   "source": [
    "import torch\n",
    "import torch.nn as nn\n",
    "import torch.nn.functional as F\n",
    "import torch.optim as optim\n",
    "import torchvision\n",
    "import torchvision.transforms as transforms\n",
    "import numpy as np\n",
    "import matplotlib.pyplot as plt\n",
    "import os\n",
    "import time\n",
    "from sklearn.metrics import roc_auc_score\n",
    "from scipy.signal import correlate"
   ]
  },
  {
   "cell_type": "markdown",
   "metadata": {},
   "source": [
    "### Problem 1:  \n",
    "### Convolutions\n",
    "\n",
    "1.  Compute the output of a 1D convolution layer if the input is a single-channel vector [1,-1,3,4,4]and the kernal is [1,1] for stride =1 and padding =0.\n",
    "\n",
    "2.  Compute the output of a 1D convolution layer if the input is a single-channel vector [1,-1,3,4,4]and the kernal is [1,-1] for stride =1 and padding =1 (padding one means on both sides)\n",
    "\n",
    "\n",
    "\n",
    "\n",
    "3.  Write pytorch code that computes these outputs.  Create the corresponding tensors and usetorch.nn.Conv1d and ConvTranspose1d."
   ]
  },
  {
   "cell_type": "code",
   "execution_count": 2,
   "metadata": {},
   "outputs": [
    {
     "name": "stdout",
     "output_type": "stream",
     "text": [
      "Part 1\n",
      "[0 2 7 8]\n",
      "\n",
      "Part 2\n",
      "[-1  2 -4 -1  0  4]\n",
      "\n",
      "Part 3\n",
      "Kernel=[1, 1], stride=1, Padding=0, Convolution=tensor([[[0, 2, 7, 8]]], grad_fn=<SqueezeBackward1>)\n",
      "Kernel=[1, -1], stride=1, Padding=1, Convolution=tensor([[[-1,  2, -4, -1,  0,  4]]], grad_fn=<SqueezeBackward1>)\n"
     ]
    }
   ],
   "source": [
    "\n",
    "\n",
    "'''\n",
    "Part 1\n",
    "'''\n",
    "x1 = [1, -1, 3, 4, 4]\n",
    "kernel1 = [1, 1]\n",
    "\n",
    "output = correlate(x1, kernel1, mode=\"valid\")\n",
    "print(\"Part 1\")\n",
    "print(output)\n",
    "\n",
    "print()\n",
    "\n",
    "'''\n",
    "Part 2\n",
    "'''\n",
    "\n",
    "x2 = [0, 1, -1, 3, 4, 4, 0]\n",
    "kernel2 = [1, -1]\n",
    "\n",
    "output = correlate(x2, kernel2, mode=\"valid\")\n",
    "print(\"Part 2\")\n",
    "print(output)\n",
    "print()\n",
    "\n",
    "\n",
    "\n",
    "'''\n",
    "Part 3\n",
    "'''\n",
    "\n",
    "x_tensor = torch.tensor([[[1, -1, 3, 4, 4]]])\n",
    "kernel1_tensor = torch.tensor([[[1, 1]]])\n",
    "kernel2_tensor = torch.tensor([[[1, -1]]])\n",
    "\n",
    "# Part 1 of part 3\n",
    "conv1 = nn.Conv1d(in_channels=1, stride=1, kernel_size=2, padding=0, out_channels=1,  bias=False)\n",
    "conv1.weight.data = kernel1_tensor\n",
    "y1 = conv1(x_tensor)\n",
    "print(\"Part 3\")\n",
    "print(f\"Kernel={kernel1}, stride=1, Padding=0, Convolution={y1}\")\n",
    "\n",
    "\n",
    "# Part 2 of part 3\n",
    "conv2 = nn.Conv1d(in_channels=1,stride=1,kernel_size=2, padding=1,out_channels=1, bias=False)\n",
    "conv2.weight.data = kernel2_tensor\n",
    "y2 = conv2(x_tensor)\n",
    "\n",
    "\n",
    "print(f\"Kernel={kernel2}, stride=1, Padding=1, Convolution={y2}\")\n"
   ]
  },
  {
   "cell_type": "markdown",
   "metadata": {},
   "source": [
    "\n",
    "### Problem 2:  Training a CIFAR-10 CNN classifier.\n",
    "\n",
    "\n",
    "In this problem we will follow a tutorial to build a Convolutional neural network that classifiesimages from the CIFAR-10 dataset and then modify it.\n",
    "\n",
    "1.  Start by implementing and running this tutorial.https://www.stefanfiott.com/machine-learning/cifar-10-classifier-using-cnn-in-pytorch/Show  the  accuracy  you  get  and  also  theconfusion matrix you obtain for the 10 classes.\n",
    "\n",
    "\n",
    "2.  Show the convolutional layer kernels you learned in the first convolutional layer.\n",
    "\n",
    "3.  Replace the architecture with AlexNet (https://github.com/icpm/pytorch-cifar10/blob/master/models/AlexNet.py)  and  report  accuracy.   Tune  hyperparameters  to  get  the  bestpossible accuracy on a test set.\n",
    "\n",
    "\n",
    "4.  Using the first CNN you trained, build another binary classifer that classifies images as ’Plane’or ’Not Plane’.  Compute the AUC of this binary classifier.  Retrain this classifier to improvethe AUC for this binary classification task.  Report how you did that and what is the bestAUC you were able to obtain."
   ]
  },
  {
   "cell_type": "code",
   "execution_count": 3,
   "metadata": {},
   "outputs": [
    {
     "name": "stdout",
     "output_type": "stream",
     "text": [
      "Files already downloaded and verified\n",
      "Files already downloaded and verified\n"
     ]
    }
   ],
   "source": [
    "'''\n",
    "Part 1\n",
    "'''\n",
    "transform = transforms.Compose(\n",
    "[transforms.ToTensor(),\n",
    "transforms.Normalize((.5, .5, .5), (.5, .5, .5))])\n",
    "\n",
    "\n",
    "trainset = torchvision.datasets.CIFAR10(root='./home/CIFAR-10 Classifier Using CNN in PyTorch/data/',\n",
    "                                       train=True,\n",
    "                                       download=True,\n",
    "                                       transform=transform,)\n",
    "\n",
    "\n",
    "trainloader = torch.utils.data.DataLoader(trainset, \n",
    "                                          batch_size=4,\n",
    "                                          shuffle=True)\n",
    "\n",
    "testset = torchvision.datasets.CIFAR10(root='./data', \n",
    "                                       train=False,\n",
    "                                       download=True, \n",
    "                                       transform=transform)\n",
    "testloader = torch.utils.data.DataLoader(testset, \n",
    "                                         batch_size=4,\n",
    "                                         shuffle=False)\n",
    "\n",
    "classes = ('plane', 'car', 'bird', 'cat', 'deer', \n",
    "           'dog', 'frog', 'horse', 'ship', 'truck')"
   ]
  },
  {
   "cell_type": "code",
   "execution_count": 4,
   "metadata": {},
   "outputs": [
    {
     "data": {
      "image/png": "[encoded data removed]",
      "text/plain": [
       "<Figure size 864x180 with 4 Axes>"
      ]
     },
     "metadata": {},
     "output_type": "display_data"
    }
   ],
   "source": [
    "def convert_to_imshow_format(image):\n",
    "    # first convert back to [0,1] range from [-1,1] range\n",
    "    image = image / 2 + 0.5\n",
    "    image = image.numpy()\n",
    "    # convert from CHW to HWC\n",
    "    # from 3x32x32 to 32x32x3\n",
    "    return image.transpose(1,2,0)\n",
    "\n",
    "dataiter = iter(trainloader)\n",
    "images, labels = dataiter.next()\n",
    "\n",
    "fig, axes = plt.subplots(1, len(images), figsize=(12, 2.5))\n",
    "for idx, image in enumerate(images):\n",
    "    axes[idx].imshow(convert_to_imshow_format(image))\n",
    "    axes[idx].set_title(classes[labels[idx]])\n",
    "    axes[idx].set_xticks([])\n",
    "    axes[idx].set_yticks([])"
   ]
  },
  {
   "cell_type": "code",
   "execution_count": 5,
   "metadata": {},
   "outputs": [
    {
     "name": "stdout",
     "output_type": "stream",
     "text": [
      "Loaded model parameters from disk.\n"
     ]
    }
   ],
   "source": [
    "class Net(nn.Module):\n",
    "    def __init__(self):\n",
    "        super(Net, self).__init__()\n",
    "        self.conv1 = nn.Conv2d(3, 6, 5)\n",
    "        self.pool = nn.MaxPool2d(2, 2)\n",
    "        self.conv2 = nn.Conv2d(6, 16, 5)\n",
    "        self.fc1 = nn.Linear(16 * 5 * 5, 120)\n",
    "        self.fc2 = nn.Linear(120, 84)\n",
    "        self.fc3 = nn.Linear(84, 10)\n",
    "        \n",
    "    def forward(self, x):\n",
    "        x = self.pool(F.relu(self.conv1(x)))\n",
    "        x = self.pool(F.relu(self.conv2(x)))\n",
    "        x = x.view(-1, 16 * 5 * 5)\n",
    "        x = F.relu(self.fc1(x))\n",
    "        x = F.relu(self.fc2(x))\n",
    "        x = self.fc3(x)\n",
    "        return x\n",
    "\n",
    "    \n",
    "\n",
    "\n",
    "net = Net()\n",
    "\n",
    "criterion = nn.CrossEntropyLoss()\n",
    "optimizer = optim.SGD(net.parameters(), lr=0.001, momentum=0.9)\n",
    "\n",
    "\n",
    "model_directory_path = './home/CIFAR-10 Classifier Using CNN in PyTorch/model/'\n",
    "model_path = model_directory_path + 'cifar-10-cnn-model.pt'\n",
    "start_time = time.time()\n",
    "if not os.path.exists(model_directory_path):\n",
    "    os.makedirs(model_directory_path)\n",
    "\n",
    "if os.path.isfile(model_path):\n",
    "    net.load_state_dict(torch.load(model_path))\n",
    "    print('Loaded model parameters from disk.')\n",
    "else:\n",
    "    for epoch in range(2):\n",
    "        \n",
    "        running_loss = 0\n",
    "        for i, data in enumerate(trainloader, 0):\n",
    "            \n",
    "            inputs, labels = data\n",
    "            \n",
    "            optimizer.zero_grad()\n",
    "            \n",
    "            outputs = net(inputs)\n",
    "            loss = criterion(outputs, labels)\n",
    "            loss.backward()\n",
    "            optimizer.step()\n",
    "            \n",
    "            running_loss += loss.item()\n",
    "            if i%2000 == 1999:\n",
    "                print('[%d, %5d] loss: %.3f' %\n",
    "                      (epoch + 1, i + 1, running_loss / 2000))\n",
    "                running_loss = 0.0\n",
    "                \n",
    "        print('Finished Training.')\n",
    "        torch.save(net.state_dict(), model_path)\n",
    "        print('Saved model parameters to disk.')\n",
    "        print(f\"{(time.time() - start_time)/60} minutes\")"
   ]
  },
  {
   "cell_type": "code",
   "execution_count": 6,
   "metadata": {},
   "outputs": [
    {
     "data": {
      "text/plain": [
       "tensor([[-0.5427, -2.0790,  0.6975,  1.5593, -0.7127,  0.9927,  0.4919, -0.4547,\n",
       "          0.1958, -0.3240],\n",
       "        [ 3.1395,  4.3670, -1.9865, -2.3151, -2.6830, -3.1614, -2.5180, -2.4417,\n",
       "          5.6213,  3.6211],\n",
       "        [ 2.2868,  1.6404, -0.0400, -0.9356, -1.7692, -1.6672, -1.5851, -1.4742,\n",
       "          3.3199,  1.6493],\n",
       "        [ 2.8588,  1.4900, -0.1589, -1.3545, -0.6258, -2.1764, -1.9176, -1.3436,\n",
       "          3.4129,  1.0465]], grad_fn=<AddmmBackward>)"
      ]
     },
     "execution_count": 6,
     "metadata": {},
     "output_type": "execute_result"
    },
    {
     "data": {
      "image/png": "[encoded data removed]",
      "text/plain": [
       "<Figure size 864x180 with 4 Axes>"
      ]
     },
     "metadata": {},
     "output_type": "display_data"
    }
   ],
   "source": [
    "dataiter = iter(testloader)\n",
    "images, labels = dataiter.next()\n",
    "\n",
    "fig, axes = plt.subplots(1, len(images), figsize=(12,2.5))\n",
    "for idx, image in enumerate(images):\n",
    "    axes[idx].imshow(convert_to_imshow_format(image))\n",
    "    axes[idx].set_title(classes[labels[idx]])\n",
    "    axes[idx].set_xticks([])\n",
    "    axes[idx].set_yticks([])\n",
    "    \n",
    "outputs = net(images)\n",
    "outputs"
   ]
  },
  {
   "cell_type": "code",
   "execution_count": 7,
   "metadata": {},
   "outputs": [
    {
     "name": "stdout",
     "output_type": "stream",
     "text": [
      "tensor([[3.9088e-02, 8.4105e-03, 1.3509e-01, 3.1982e-01, 3.2976e-02, 1.8149e-01,\n",
      "         1.0999e-01, 4.2684e-02, 8.1804e-02, 4.8644e-02],\n",
      "        [5.5506e-02, 1.8943e-01, 3.2973e-04, 2.3738e-04, 1.6431e-04, 1.0184e-04,\n",
      "         1.9379e-04, 2.0915e-04, 6.6398e-01, 8.9850e-02],\n",
      "        [1.9683e-01, 1.0313e-01, 1.9212e-02, 7.8460e-03, 3.4090e-03, 3.7748e-03,\n",
      "         4.0978e-03, 4.5783e-03, 5.5308e-01, 1.0405e-01],\n",
      "        [3.0467e-01, 7.7514e-02, 1.4903e-02, 4.5083e-03, 9.3431e-03, 1.9818e-03,\n",
      "         2.5673e-03, 4.5578e-03, 5.3021e-01, 4.9744e-02]],\n",
      "       grad_fn=<SoftmaxBackward>)\n"
     ]
    }
   ],
   "source": [
    "sm = nn.Softmax(dim=1)\n",
    "sm_outputs = sm(outputs)\n",
    "print(sm_outputs)"
   ]
  },
  {
   "cell_type": "code",
   "execution_count": 8,
   "metadata": {},
   "outputs": [
    {
     "name": "stdout",
     "output_type": "stream",
     "text": [
      "cat - 0.3198\n",
      "ship - 0.6640\n",
      "ship - 0.5531\n",
      "ship - 0.5302\n"
     ]
    }
   ],
   "source": [
    "probs, index = torch.max(sm_outputs, dim=1)\n",
    "\n",
    "for p, i in zip(probs, index):\n",
    "    print('{0} - {1:.4f}'.format(classes[i], p))"
   ]
  },
  {
   "cell_type": "code",
   "execution_count": 9,
   "metadata": {},
   "outputs": [
    {
     "name": "stdout",
     "output_type": "stream",
     "text": [
      "Model accuracy on 10000 test images: 50.56%\n"
     ]
    }
   ],
   "source": [
    "total_correct = 0\n",
    "total_images = 0\n",
    "confusion_matrix = np.zeros([10,10], int)\n",
    "with torch.no_grad():\n",
    "    for data in testloader:\n",
    "        images, labels = data\n",
    "        outputs = net(images)\n",
    "        _, predicted = torch.max(outputs.data, 1)\n",
    "        total_images += labels.size(0)\n",
    "        total_correct += (predicted == labels).sum().item()\n",
    "        for i, l in enumerate(labels):\n",
    "            confusion_matrix[l.item(), predicted[i].item()] += 1 \n",
    "\n",
    "model_accuracy = total_correct / total_images * 100\n",
    "print('Model accuracy on {0} test images: {1:.2f}%'.format(total_images, model_accuracy))"
   ]
  },
  {
   "cell_type": "code",
   "execution_count": 10,
   "metadata": {},
   "outputs": [
    {
     "name": "stdout",
     "output_type": "stream",
     "text": [
      "Category   - Accuracy\n",
      "plane      - 40.9\n",
      "car        - 60.8\n",
      "bird       - 40.7\n",
      "cat        - 34.3\n",
      "deer       - 23.3\n",
      "dog        - 47.0\n",
      "frog       - 60.6\n",
      "horse      - 67.5\n",
      "ship       - 70.7\n",
      "truck      - 59.8\n"
     ]
    }
   ],
   "source": [
    "print('{0:10s} - {1}'.format('Category','Accuracy'))\n",
    "for i, r in enumerate(confusion_matrix):\n",
    "    print('{0:10s} - {1:.1f}'.format(classes[i], r[i]/np.sum(r)*100))"
   ]
  },
  {
   "cell_type": "code",
   "execution_count": 11,
   "metadata": {},
   "outputs": [
    {
     "data": {
      "image/png": "[encoded data removed]",
      "text/plain": [
       "<Figure size 576x432 with 1 Axes>"
      ]
     },
     "metadata": {
      "needs_background": "light"
     },
     "output_type": "display_data"
    }
   ],
   "source": [
    "fig, ax = plt.subplots(1,1,figsize=(8,6))\n",
    "ax.matshow(confusion_matrix, aspect='auto', vmin=0, vmax=1000, cmap=plt.get_cmap('Blues'))\n",
    "plt.ylabel('Actual Category')\n",
    "plt.yticks(range(10), classes)\n",
    "plt.xlabel('Predicted Category')\n",
    "plt.xticks(range(10), classes)\n",
    "plt.show()"
   ]
  },
  {
   "cell_type": "code",
   "execution_count": 12,
   "metadata": {},
   "outputs": [
    {
     "name": "stdout",
     "output_type": "stream",
     "text": [
      "actual/pred     plane     car       bird      cat       deer      dog       frog      horse     ship      truck     \n",
      "plane           409       37        109       23        13        21        26        35        266       61        \n",
      "                0.409     0.037     0.109     0.023     0.013     0.021     0.026     0.035     0.266     0.061     \n",
      "car             28        608       6         24        6         4         16        13        103       192       \n",
      "                0.028     0.608     0.006     0.024     0.006     0.004     0.016     0.013     0.103     0.192     \n",
      "bird            47        17        407       85        50        145       111       73        42        23        \n",
      "                0.047     0.017     0.407     0.085     0.05      0.145     0.111     0.073     0.042     0.023     \n",
      "cat             13        7         90        343       24        232       98        107       36        50        \n",
      "                0.013     0.007     0.09      0.343     0.024     0.232     0.098     0.107     0.036     0.05      \n",
      "deer            35        7         186       105       233       78        131       181       31        13        \n",
      "                0.035     0.007     0.186     0.105     0.233     0.078     0.131     0.181     0.031     0.013     \n",
      "dog             10        5         80        180       19        470       40        155       23        18        \n",
      "                0.01      0.005     0.08      0.18      0.019     0.47      0.04      0.155     0.023     0.018     \n",
      "frog            5         9         68        115       47        29        606       71        16        34        \n",
      "                0.005     0.009     0.068     0.115     0.047     0.029     0.606     0.071     0.016     0.034     \n",
      "horse           10        2         48        78        20        88        20        675       9         50        \n",
      "                0.01      0.002     0.048     0.078     0.02      0.088     0.02      0.675     0.009     0.05      \n",
      "ship            77        37        40        17        4         26        8         11        707       73        \n",
      "                0.077     0.037     0.04      0.017     0.004     0.026     0.008     0.011     0.707     0.073     \n",
      "truck           22        146       15        29        5         5         33        29        118       598       \n",
      "                0.022     0.146     0.015     0.029     0.005     0.005     0.033     0.029     0.118     0.598     \n"
     ]
    }
   ],
   "source": [
    "print('actual/pred'.ljust(16), end='')\n",
    "for i,c in enumerate(classes):\n",
    "    print(c.ljust(10), end='')\n",
    "print()\n",
    "for i,r in enumerate(confusion_matrix):\n",
    "    print(classes[i].ljust(16), end='')\n",
    "    for idx, p in enumerate(r):\n",
    "        print(str(p).ljust(10), end='')\n",
    "    print()\n",
    "    \n",
    "    r = r/np.sum(r)\n",
    "    print(''.ljust(16), end='')\n",
    "    for idx, p in enumerate(r):\n",
    "        print(str(p).ljust(10), end='')\n",
    "    print()"
   ]
  },
  {
   "cell_type": "code",
   "execution_count": 13,
   "metadata": {},
   "outputs": [
    {
     "data": {
      "image/png": "[encoded data removed]",
      "text/plain": [
       "<Figure size 432x72 with 6 Axes>"
      ]
     },
     "metadata": {
      "needs_background": "light"
     },
     "output_type": "display_data"
    }
   ],
   "source": [
    "'''\n",
    "Part 2\n",
    "'''\n",
    "\n",
    "\n",
    "def plot_kernels(tensor, num_cols=6):\n",
    "    num_rows = 1\n",
    "    fig = plt.figure(figsize=(num_cols, num_rows))\n",
    "    i = 0\n",
    "    for t in tensor:\n",
    "        ax1 = fig.add_subplot(num_rows, num_cols, i+1)\n",
    "        pilTrans = transforms.ToPILImage()\n",
    "        pilImg = pilTrans(t)\n",
    "        ax1.imshow(pilImg, interpolation='none')\n",
    "        i += 1\n",
    "    \n",
    "    plt.subplots_adjust(wspace=.1, hspace=.1)\n",
    "    plt.show()\n",
    "    \n",
    "    \n",
    "    \n",
    "kernels = net.conv1.weight.detach().clone()\n",
    "kernels = kernels - kernels.min()\n",
    "kernels = kernels/kernels.max()\n",
    "plot_kernels(kernels)"
   ]
  },
  {
   "cell_type": "code",
   "execution_count": 14,
   "metadata": {},
   "outputs": [
    {
     "name": "stdout",
     "output_type": "stream",
     "text": [
      "[1,  2000] loss: 2.303\n",
      "[1,  4000] loss: 2.287\n",
      "[1,  6000] loss: 2.072\n",
      "[1,  8000] loss: 1.898\n",
      "[1, 10000] loss: 1.769\n",
      "[1, 12000] loss: 1.715\n",
      "Finished Training.\n",
      "Saved model parameters to disk.\n",
      "45.055308151245114 minutes\n",
      "Category   - Accuracy\n",
      "plane      - 40.9\n",
      "car        - 60.8\n",
      "bird       - 40.7\n",
      "cat        - 34.3\n",
      "deer       - 23.3\n",
      "dog        - 47.0\n",
      "frog       - 60.6\n",
      "horse      - 67.5\n",
      "ship       - 70.7\n",
      "truck      - 59.8\n"
     ]
    }
   ],
   "source": [
    "import torch.nn as nn\n",
    "\n",
    "NUM_CLASSES = 10\n",
    "\n",
    "\n",
    "class AlexNet(nn.Module):\n",
    "    def __init__(self, num_classes=NUM_CLASSES):\n",
    "        super(AlexNet, self).__init__()\n",
    "        self.features = nn.Sequential(\n",
    "            nn.Conv2d(3, 64, kernel_size=3, stride=2, padding=1),\n",
    "            nn.ReLU(inplace=True),\n",
    "            nn.MaxPool2d(kernel_size=2),\n",
    "            nn.Conv2d(64, 192, kernel_size=3, padding=1),\n",
    "            nn.ReLU(inplace=True),\n",
    "            nn.MaxPool2d(kernel_size=2),\n",
    "            nn.Conv2d(192, 384, kernel_size=3, padding=1),\n",
    "            nn.ReLU(inplace=True),\n",
    "            nn.Conv2d(384, 256, kernel_size=3, padding=1),\n",
    "            nn.ReLU(inplace=True),\n",
    "            nn.Conv2d(256, 256, kernel_size=3, padding=1),\n",
    "            nn.ReLU(inplace=True),\n",
    "            nn.MaxPool2d(kernel_size=2),\n",
    "        )\n",
    "        self.classifier = nn.Sequential(\n",
    "            nn.Dropout(),\n",
    "            nn.Linear(256 * 2 * 2, 4096),\n",
    "            nn.ReLU(inplace=True),\n",
    "            nn.Dropout(),\n",
    "            nn.Linear(4096, 4096),\n",
    "            nn.ReLU(inplace=True),\n",
    "            nn.Linear(4096, num_classes),\n",
    "        )\n",
    "\n",
    "    def forward(self, x):\n",
    "        x = self.features(x)\n",
    "        x = x.view(x.size(0), 256 * 2 * 2)\n",
    "        x = self.classifier(x)\n",
    "        return x\n",
    "    \n",
    "    \n",
    "net = AlexNet()\n",
    "criterion = nn.CrossEntropyLoss()\n",
    "optimizer = optim.SGD(net.parameters(), lr=0.001, momentum=0.9)\n",
    "\n",
    "for epoch in range(1):\n",
    "\n",
    "    running_loss = 0\n",
    "    for i, data in enumerate(trainloader, 0):\n",
    "        inputs, labels = data\n",
    "\n",
    "        optimizer.zero_grad()\n",
    "\n",
    "        outputs = net(inputs)\n",
    "        loss = criterion(outputs, labels)\n",
    "        loss.backward()\n",
    "        optimizer.step()\n",
    "\n",
    "        running_loss += loss.item()\n",
    "        if i%2000 == 1999:\n",
    "            print('[%d, %5d] loss: %.3f' %\n",
    "                  (epoch + 1, i + 1, running_loss / 2000))\n",
    "            running_loss = 0.0\n",
    "\n",
    "    print('Finished Training.')\n",
    "    torch.save(net.state_dict(), model_path)\n",
    "    print('Saved model parameters to disk.')\n",
    "    print(f\"{(time.time() - start_time)/60} minutes\")\n",
    "    \n",
    "    \n",
    "print('{0:10s} - {1}'.format('Category','Accuracy'))\n",
    "for i, r in enumerate(confusion_matrix):\n",
    "    print('{0:10s} - {1:.1f}'.format(classes[i], r[i]/np.sum(r)*100))"
   ]
  },
  {
   "cell_type": "code",
   "execution_count": 16,
   "metadata": {},
   "outputs": [
    {
     "name": "stderr",
     "output_type": "stream",
     "text": [
      "\r",
      "0it [00:00, ?it/s]"
     ]
    },
    {
     "name": "stdout",
     "output_type": "stream",
     "text": [
      "Downloading https://www.cs.toronto.edu/~kriz/cifar-10-python.tar.gz to ./home/CIFAR-10 Classifier Using CNN in PyTorch2/data/cifar-10-python.tar.gz\n"
     ]
    },
    {
     "name": "stderr",
     "output_type": "stream",
     "text": [
      "100%|█████████▉| 170270720/170498071 [00:22<00:00, 4137766.54it/s]"
     ]
    },
    {
     "name": "stdout",
     "output_type": "stream",
     "text": [
      "Extracting ./home/CIFAR-10 Classifier Using CNN in PyTorch2/data/cifar-10-python.tar.gz to ./home/CIFAR-10 Classifier Using CNN in PyTorch2/data/\n",
      "Files already downloaded and verified\n",
      "[1,  2000] loss: 0.291\n",
      "[1,  4000] loss: 0.285\n"
     ]
    },
    {
     "name": "stderr",
     "output_type": "stream",
     "text": [
      "\r",
      "170500096it [00:40, 4137766.54it/s]                               "
     ]
    },
    {
     "name": "stdout",
     "output_type": "stream",
     "text": [
      "[1,  6000] loss: 0.281\n",
      "[1,  8000] loss: 0.255\n",
      "[1, 10000] loss: 0.261\n",
      "[1, 12000] loss: 0.248\n",
      "[1, 14000] loss: 0.262\n",
      "[1, 16000] loss: 0.257\n",
      "[1, 18000] loss: 0.235\n",
      "[1, 20000] loss: 0.253\n",
      "[1, 22000] loss: 0.214\n",
      "[1, 24000] loss: 0.252\n",
      "[1, 26000] loss: 0.241\n",
      "[1, 28000] loss: 0.238\n",
      "[1, 30000] loss: 0.233\n",
      "[1, 32000] loss: 0.235\n",
      "[1, 34000] loss: 0.252\n",
      "[1, 36000] loss: 0.200\n",
      "[1, 38000] loss: 0.205\n",
      "[1, 40000] loss: 0.233\n",
      "[1, 42000] loss: 0.214\n",
      "[1, 44000] loss: 0.220\n",
      "[1, 46000] loss: 0.207\n",
      "[1, 48000] loss: 0.217\n",
      "[1, 50000] loss: 0.215\n",
      "Finished Training.\n",
      "Saved model parameters to disk.\n",
      "50.43070826530457 minutes\n",
      "[2,  2000] loss: 0.197\n",
      "[2,  4000] loss: 0.198\n",
      "[2,  6000] loss: 0.209\n",
      "[2,  8000] loss: 0.197\n",
      "[2, 10000] loss: 0.204\n",
      "[2, 12000] loss: 0.203\n",
      "[2, 14000] loss: 0.188\n",
      "[2, 16000] loss: 0.167\n",
      "[2, 18000] loss: 0.213\n",
      "[2, 20000] loss: 0.206\n",
      "[2, 22000] loss: 0.175\n",
      "[2, 24000] loss: 0.203\n",
      "[2, 26000] loss: 0.206\n",
      "[2, 28000] loss: 0.207\n",
      "[2, 30000] loss: 0.194\n",
      "[2, 32000] loss: 0.192\n",
      "[2, 34000] loss: 0.213\n",
      "[2, 36000] loss: 0.197\n",
      "[2, 38000] loss: 0.200\n",
      "[2, 40000] loss: 0.196\n",
      "[2, 42000] loss: 0.199\n",
      "[2, 44000] loss: 0.198\n",
      "[2, 46000] loss: 0.191\n",
      "[2, 48000] loss: 0.173\n",
      "[2, 50000] loss: 0.196\n",
      "Finished Training.\n",
      "Saved model parameters to disk.\n",
      "53.07503825028737 minutes\n"
     ]
    }
   ],
   "source": [
    "class BinaryNet(nn.Module):\n",
    "    def __init__(self):\n",
    "        super(BinaryNet, self).__init__()\n",
    "        self.conv1 = nn.Conv2d(3, 6, 5)\n",
    "        self.pool = nn.MaxPool2d(2, 2)\n",
    "        self.conv2 = nn.Conv2d(6, 16, 5)\n",
    "        self.fc1 = nn.Linear(16 * 5 * 5, 120)\n",
    "        self.fc2 = nn.Linear(120, 84)\n",
    "        self.fc3 = nn.Linear(84, 2)\n",
    "        \n",
    "    def forward(self, x):\n",
    "        x = self.pool(F.relu(self.conv1(x)))\n",
    "        x = self.pool(F.relu(self.conv2(x)))\n",
    "        x = x.view(-1, 16 * 5 * 5)\n",
    "        x = F.relu(self.fc1(x))\n",
    "        x = F.relu(self.fc2(x))\n",
    "        x = self.fc3(x)\n",
    "        return x\n",
    "    \n",
    "    \n",
    "net = BinaryNet()\n",
    "criterion = nn.CrossEntropyLoss()\n",
    "optimizer = optim.SGD(net.parameters(), lr=0.001, momentum=0.9)\n",
    "\n",
    "trainset = torchvision.datasets.CIFAR10(root='./home/CIFAR-10 Classifier Using CNN in PyTorch2/data/',\n",
    "                                       train=True,\n",
    "                                       download=True,\n",
    "                                       transform=transform)\n",
    "\n",
    "\n",
    "testset = torchvision.datasets.CIFAR10(root='./home/CIFAR-10 Classifier Using CNN in PyTorch2/data',\n",
    "                                      train=False,\n",
    "                                      download=True,\n",
    "                                      transform=transform)\n",
    "\n",
    "\n",
    "for target in range(len(trainset.targets)):\n",
    "    if trainset.targets[target] != 0:\n",
    "        trainset.targets[target] = 1\n",
    "\n",
    "for target in range(len(testset.targets)):\n",
    "    if testset.targets[target] != 0:\n",
    "        testset.targets[target] = 1\n",
    "        \n",
    "        \n",
    "trainloader = torch.utils.data.DataLoader(trainset,shuffle=True)\n",
    "testloader = torch.utils.data.DataLoader(testset,shuffle=False)\n",
    "\n",
    "\n",
    "for epoch in range(2):\n",
    "        \n",
    "    running_loss = 0\n",
    "    for i, data in enumerate(trainloader, 0):\n",
    "\n",
    "        inputs, labels = data\n",
    "\n",
    "        optimizer.zero_grad()\n",
    "\n",
    "        outputs = net(inputs)\n",
    "        loss = criterion(outputs, labels)\n",
    "        loss.backward()\n",
    "        optimizer.step()\n",
    "\n",
    "        running_loss += loss.item()\n",
    "        if i%2000 == 1999:\n",
    "            print('[%d, %5d] loss: %.3f' %\n",
    "                  (epoch + 1, i + 1, running_loss / 2000))\n",
    "            running_loss = 0.0\n",
    "\n",
    "    print('Finished Training.')\n",
    "    torch.save(net.state_dict(), model_path)\n",
    "    print('Saved model parameters to disk.')\n",
    "    print(f\"{(time.time() - start_time)/60} minutes\")"
   ]
  },
  {
   "cell_type": "code",
   "execution_count": 20,
   "metadata": {},
   "outputs": [
    {
     "name": "stdout",
     "output_type": "stream",
     "text": [
      "AUC Score: 0.6548888888888889\n",
      "[1, 1, 1, 0, 1, 1, 1, 1, 1, 1]\n"
     ]
    }
   ],
   "source": [
    "sm = nn.Softmax(dim=1)\n",
    "probs, index = torch.max(sm(net(images)), dim=1)\n",
    "\n",
    "total_correct = 0\n",
    "total_images = 0\n",
    "\n",
    "predictions = []\n",
    "correct_labels = []\n",
    "\n",
    "with torch.no_grad():\n",
    "    for data in testloader:\n",
    "        images, labels = data\n",
    "        outputs = net(images)\n",
    "        _, predicted = torch.max(outputs.data, 1)\n",
    "        correct_labels.extend(labels.numpy().tolist())\n",
    "        predictions.extend(predicted.numpy().tolist())\n",
    "        total_images += labels.size(0)\n",
    "        total_correct += (predicted == labels).sum().item()\n",
    "\n",
    "print(\"AUC Score: \" + str(roc_auc_score(correct_labels, predictions)))\n",
    "print(predictions[:10])"
   ]
  },
  {
   "cell_type": "code",
   "execution_count": null,
   "metadata": {},
   "outputs": [],
   "source": []
  }
 ],
 "metadata": {
  "kernelspec": {
   "display_name": "Python 3",
   "language": "python",
   "name": "python3"
  },
  "language_info": {
   "codemirror_mode": {
    "name": "ipython",
    "version": 3
   },
   "file_extension": ".py",
   "mimetype": "text/x-python",
   "name": "python",
   "nbconvert_exporter": "python",
   "pygments_lexer": "ipython3",
   "version": "3.7.4"
  }
 },
 "nbformat": 4,
 "nbformat_minor": 2
}

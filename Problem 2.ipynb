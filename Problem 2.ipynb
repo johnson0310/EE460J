{
 "cells": [
  {
   "cell_type": "code",
   "execution_count": 2,
   "metadata": {},
   "outputs": [],
   "source": [
    "import torch\n",
    "import torchvision\n",
    "import torchvision.transforms as transforms\n",
    "import numpy as np"
   ]
  },
  {
   "cell_type": "code",
   "execution_count": 3,
   "metadata": {},
   "outputs": [
    {
     "name": "stdout",
     "output_type": "stream",
     "text": [
      "Files already downloaded and verified\n",
      "Files already downloaded and verified\n"
     ]
    }
   ],
   "source": [
    "transform = transforms.Compose(\n",
    "    [transforms.ToTensor(),\n",
    "     transforms.Normalize((0.5, 0.5, 0.5), (0.5, 0.5, 0.5))])\n",
    "\n",
    "trainset = torchvision.datasets.CIFAR10(root='/home/CIFAR-10 Classifier Using CNN in PyTorch/data/', \n",
    "                                        train=True,\n",
    "                                        download=True, \n",
    "                                        transform=transform)\n",
    "trainloader = torch.utils.data.DataLoader(trainset, \n",
    "                                          batch_size=4,\n",
    "                                          shuffle=True)\n",
    "testset = torchvision.datasets.CIFAR10(root='./data', \n",
    "                                       train=False,\n",
    "                                       download=True, \n",
    "                                       transform=transform)\n",
    "testloader = torch.utils.data.DataLoader(testset, \n",
    "                                         batch_size=4,\n",
    "                                         shuffle=False)\n",
    "\n",
    "classes = ('plane', 'car', 'bird', 'cat', 'deer', \n",
    "           'dog', 'frog', 'horse', 'ship', 'truck')"
   ]
  },
  {
   "cell_type": "code",
   "execution_count": 17,
   "metadata": {},
   "outputs": [
    {
     "data": {
      "image/png": "[encoded data removed]",
      "text/plain": [
       "<Figure size 864x180 with 4 Axes>"
      ]
     },
     "metadata": {},
     "output_type": "display_data"
    }
   ],
   "source": [
    "def convert_to_imshow_format(image):\n",
    "    # first convert back to [0,1] range from [-1,1] range\n",
    "    image = image / 2 + 0.5\n",
    "    image = image.numpy()\n",
    "    # convert from CHW to HWC\n",
    "    # from 3x32x32 to 32x32x3\n",
    "    return image.transpose(1,2,0)\n",
    "\n",
    "dataiter = iter(trainloader)\n",
    "images, labels = dataiter.next()\n",
    "\n",
    "fig, axes = plt.subplots(1, len(images), figsize=(12,2.5))\n",
    "for idx, image in enumerate(images):\n",
    "    axes[idx].imshow(convert_to_imshow_format(image))\n",
    "    axes[idx].set_title(classes[labels[idx]])\n",
    "    axes[idx].set_xticks([])\n",
    "    axes[idx].set_yticks([])"
   ]
  },
  {
   "cell_type": "code",
   "execution_count": 4,
   "metadata": {},
   "outputs": [],
   "source": [
    "import torch.nn as nn\n",
    "import torch.nn.functional as F\n",
    "\n",
    "class Net(nn.Module):\n",
    "    def __init__(self):\n",
    "        super(Net, self).__init__()\n",
    "        self.conv1 = nn.Conv2d(3, 6, 5)\n",
    "        self.pool = nn.MaxPool2d(2, 2)\n",
    "        self.conv2 = nn.Conv2d(6, 16, 5)\n",
    "        self.fc1 = nn.Linear(16 * 5 * 5, 120)\n",
    "        self.fc2 = nn.Linear(120, 84)\n",
    "        self.fc3 = nn.Linear(84, 10)\n",
    "\n",
    "    def forward(self, x):\n",
    "        x = self.pool(F.relu(self.conv1(x)))\n",
    "        x = self.pool(F.relu(self.conv2(x)))\n",
    "        x = x.view(-1, 16 * 5 * 5)\n",
    "        x = F.relu(self.fc1(x))\n",
    "        x = F.relu(self.fc2(x))\n",
    "        x = self.fc3(x)\n",
    "        return x\n",
    "    \n",
    "net = Net()"
   ]
  },
  {
   "cell_type": "code",
   "execution_count": 5,
   "metadata": {},
   "outputs": [],
   "source": [
    "import torch.optim as optim\n",
    "\n",
    "criterion = nn.CrossEntropyLoss()\n",
    "optimizer = optim.SGD(net.parameters(), lr=0.001, momentum=0.9)"
   ]
  },
  {
   "cell_type": "code",
   "execution_count": 6,
   "metadata": {},
   "outputs": [
    {
     "name": "stdout",
     "output_type": "stream",
     "text": [
      "Loaded model parameters from disk.\n"
     ]
    }
   ],
   "source": [
    "import os\n",
    "\n",
    "model_directory_path = '/home/CIFAR-10 Classifier Using CNN in PyTorch/model/'\n",
    "model_path = model_directory_path + 'cifar-10-cnn-model.pt'\n",
    "\n",
    "if not os.path.exists(model_directory_path):\n",
    "    os.makedirs(model_directory_path)\n",
    "\n",
    "if os.path.isfile(model_path):\n",
    "    # load trained model parameters from disk\n",
    "    net.load_state_dict(torch.load(model_path))\n",
    "    print('Loaded model parameters from disk.')\n",
    "else:\n",
    "    for epoch in range(2):  # loop over the dataset multiple times\n",
    "\n",
    "        running_loss = 0.0\n",
    "        for i, data in enumerate(trainloader, 0):\n",
    "            # get the inputs\n",
    "            inputs, labels = data\n",
    "\n",
    "            # zero the parameter gradients\n",
    "            optimizer.zero_grad()\n",
    "\n",
    "            # forward + backward + optimize\n",
    "            outputs = net(inputs)\n",
    "            loss = criterion(outputs, labels)\n",
    "            loss.backward()\n",
    "            optimizer.step()\n",
    "\n",
    "            # print statistics\n",
    "            running_loss += loss.item()\n",
    "            if i % 2000 == 1999:    # print every 2000 mini-batches\n",
    "                print('[%d, %5d] loss: %.3f' %\n",
    "                      (epoch + 1, i + 1, running_loss / 2000))\n",
    "                running_loss = 0.0\n",
    "    print('Finished Training.')\n",
    "    torch.save(net.state_dict(), model_path)\n",
    "    print('Saved model parameters to disk.')"
   ]
  },
  {
   "cell_type": "code",
   "execution_count": 18,
   "metadata": {},
   "outputs": [
    {
     "data": {
      "image/png": "[encoded data removed]",
      "text/plain": [
       "<Figure size 864x180 with 4 Axes>"
      ]
     },
     "metadata": {},
     "output_type": "display_data"
    }
   ],
   "source": [
    "dataiter = iter(testloader)\n",
    "images, labels = dataiter.next()\n",
    "\n",
    "fig, axes = plt.subplots(1, len(images), figsize=(12,2.5))\n",
    "for idx, image in enumerate(images):\n",
    "    axes[idx].imshow(convert_to_imshow_format(image))\n",
    "    axes[idx].set_title(classes[labels[idx]])\n",
    "    axes[idx].set_xticks([])\n",
    "    axes[idx].set_yticks([])"
   ]
  },
  {
   "cell_type": "code",
   "execution_count": 8,
   "metadata": {},
   "outputs": [],
   "source": [
    "outputs = net(images)"
   ]
  },
  {
   "cell_type": "code",
   "execution_count": 9,
   "metadata": {},
   "outputs": [
    {
     "data": {
      "text/plain": [
       "tensor([[-0.5587, -1.3294, -0.0147,  1.7789, -0.9728,  0.8734,  0.2706, -0.6086,\n",
       "         -0.2059,  0.2847],\n",
       "        [ 4.8533,  5.2669, -0.6852, -2.5590, -2.6156, -4.4962, -2.6582, -4.1807,\n",
       "          5.4332,  3.9467],\n",
       "        [ 2.4263,  2.5022, -0.4277, -1.3331, -1.3506, -2.5808, -1.3142, -2.6337,\n",
       "          3.4305,  2.0966],\n",
       "        [ 3.4028,  1.2159,  0.6023, -1.1971, -1.3105, -2.9989, -1.2615, -2.8925,\n",
       "          4.5330,  0.9981]], grad_fn=<AddmmBackward>)"
      ]
     },
     "execution_count": 9,
     "metadata": {},
     "output_type": "execute_result"
    }
   ],
   "source": [
    "outputs"
   ]
  },
  {
   "cell_type": "code",
   "execution_count": 10,
   "metadata": {},
   "outputs": [
    {
     "name": "stdout",
     "output_type": "stream",
     "text": [
      "tensor([[3.9401e-02, 1.8229e-02, 6.7883e-02, 4.0804e-01, 2.6041e-02, 1.6498e-01,\n",
      "         9.0294e-02, 3.7484e-02, 5.6070e-02, 9.1576e-02],\n",
      "        [2.1242e-01, 3.2121e-01, 8.3527e-04, 1.2825e-04, 1.2120e-04, 1.8481e-05,\n",
      "         1.1614e-04, 2.5336e-05, 3.7934e-01, 8.5787e-02],\n",
      "        [1.7642e-01, 1.9033e-01, 1.0164e-02, 4.1103e-03, 4.0391e-03, 1.1803e-03,\n",
      "         4.1887e-03, 1.1195e-03, 4.8157e-01, 1.2688e-01],\n",
      "        [2.2771e-01, 2.5563e-02, 1.3840e-02, 2.2892e-03, 2.0437e-03, 3.7772e-04,\n",
      "         2.1464e-03, 4.2012e-04, 7.0505e-01, 2.0561e-02]],\n",
      "       grad_fn=<SoftmaxBackward>)\n"
     ]
    }
   ],
   "source": [
    "sm = nn.Softmax(dim=1)\n",
    "sm_outputs = sm(outputs)\n",
    "print(sm_outputs)"
   ]
  },
  {
   "cell_type": "code",
   "execution_count": 11,
   "metadata": {},
   "outputs": [
    {
     "name": "stdout",
     "output_type": "stream",
     "text": [
      "cat - 0.4080\n",
      "ship - 0.3793\n",
      "ship - 0.4816\n",
      "ship - 0.7051\n"
     ]
    }
   ],
   "source": [
    "probs, index = torch.max(sm_outputs, dim=1)\n",
    "\n",
    "for p, i in zip(probs, index):\n",
    "    print('{0} - {1:.4f}'.format(classes[i], p))"
   ]
  },
  {
   "cell_type": "code",
   "execution_count": 12,
   "metadata": {},
   "outputs": [
    {
     "name": "stdout",
     "output_type": "stream",
     "text": [
      "Model accuracy on 10000 test images: 54.98%\n"
     ]
    }
   ],
   "source": [
    "total_correct = 0\n",
    "total_images = 0\n",
    "confusion_matrix = np.zeros([10,10], int)\n",
    "with torch.no_grad():\n",
    "    for data in testloader:\n",
    "        images, labels = data\n",
    "        outputs = net(images)\n",
    "        _, predicted = torch.max(outputs.data, 1)\n",
    "        total_images += labels.size(0)\n",
    "        total_correct += (predicted == labels).sum().item()\n",
    "        for i, l in enumerate(labels):\n",
    "            confusion_matrix[l.item(), predicted[i].item()] += 1 \n",
    "\n",
    "model_accuracy = total_correct / total_images * 100\n",
    "print('Model accuracy on {0} test images: {1:.2f}%'.format(total_images, model_accuracy))"
   ]
  },
  {
   "cell_type": "code",
   "execution_count": 14,
   "metadata": {},
   "outputs": [
    {
     "data": {
      "image/png": "[encoded data removed]",
      "text/plain": [
       "<Figure size 576x432 with 1 Axes>"
      ]
     },
     "metadata": {
      "needs_background": "light"
     },
     "output_type": "display_data"
    }
   ],
   "source": [
    "from matplotlib import pyplot as plt\n",
    "\n",
    "fig, ax = plt.subplots(1,1,figsize=(8,6))\n",
    "ax.matshow(confusion_matrix, aspect='auto', vmin=0, vmax=1000, cmap=plt.get_cmap('Blues'))\n",
    "plt.ylabel('Actual Category')\n",
    "plt.yticks(range(10), classes)\n",
    "plt.xlabel('Predicted Category')\n",
    "plt.xticks(range(10), classes)\n",
    "plt.show()"
   ]
  },
  {
   "cell_type": "code",
   "execution_count": 19,
   "metadata": {},
   "outputs": [
    {
     "name": "stdout",
     "output_type": "stream",
     "text": [
      "Category   - Accuracy\n",
      "plane      - 44.1\n",
      "car        - 66.2\n",
      "bird       - 44.1\n",
      "cat        - 32.5\n",
      "deer       - 34.4\n",
      "dog        - 50.5\n",
      "frog       - 76.9\n",
      "horse      - 56.9\n",
      "ship       - 79.8\n",
      "truck      - 64.4\n"
     ]
    }
   ],
   "source": [
    "print('{0:10s} - {1}'.format('Category','Accuracy'))\n",
    "for i, r in enumerate(confusion_matrix):\n",
    "    print('{0:10s} - {1:.1f}'.format(classes[i], r[i]/np.sum(r)*100))"
   ]
  },
  {
   "cell_type": "code",
   "execution_count": 20,
   "metadata": {},
   "outputs": [
    {
     "name": "stdout",
     "output_type": "stream",
     "text": [
      "actual/pred     plane     car       bird      cat       deer      dog       frog      horse     ship      truck     \n",
      "plane           441       19        99        21        9         23        41        13        265       69        \n",
      "                0.441     0.019     0.099     0.021     0.009     0.023     0.041     0.013     0.265     0.069     \n",
      "car             18        662       6         17        3         3         24        6         64        197       \n",
      "                0.018     0.662     0.006     0.017     0.003     0.003     0.024     0.006     0.064     0.197     \n",
      "bird            46        11        441       66        73        100       160       30        52        21        \n",
      "                0.046     0.011     0.441     0.066     0.073     0.1       0.16      0.03      0.052     0.021     \n",
      "cat             10        10        79        325       48        214       209       29        42        34        \n",
      "                0.01      0.01      0.079     0.325     0.048     0.214     0.209     0.029     0.042     0.034     \n",
      "deer            21        3         197       41        344       86        172       83        47        6         \n",
      "                0.021     0.003     0.197     0.041     0.344     0.086     0.172     0.083     0.047     0.006     \n",
      "dog             12        1         85        174       30        505       113       40        27        13        \n",
      "                0.012     0.001     0.085     0.174     0.03      0.505     0.113     0.04      0.027     0.013     \n",
      "frog            3         8         59        35        36        36        769       16        14        24        \n",
      "                0.003     0.008     0.059     0.035     0.036     0.036     0.769     0.016     0.014     0.024     \n",
      "horse           12        4         51        70        54        120       67        569       13        40        \n",
      "                0.012     0.004     0.051     0.07      0.054     0.12      0.067     0.569     0.013     0.04      \n",
      "ship            58        31        31        18        2         6         16        4         798       36        \n",
      "                0.058     0.031     0.031     0.018     0.002     0.006     0.016     0.004     0.798     0.036     \n",
      "truck           16        110       17        30        2         8         53        11        109       644       \n",
      "                0.016     0.11      0.017     0.03      0.002     0.008     0.053     0.011     0.109     0.644     \n"
     ]
    }
   ],
   "source": [
    "print('actual/pred'.ljust(16), end='')\n",
    "for i,c in enumerate(classes):\n",
    "    print(c.ljust(10), end='')\n",
    "print()\n",
    "for i,r in enumerate(confusion_matrix):\n",
    "    print(classes[i].ljust(16), end='')\n",
    "    for idx, p in enumerate(r):\n",
    "        print(str(p).ljust(10), end='')\n",
    "    print()\n",
    "    \n",
    "    r = r/np.sum(r)\n",
    "    print(''.ljust(16), end='')\n",
    "    for idx, p in enumerate(r):\n",
    "        print(str(p).ljust(10), end='')\n",
    "    print()"
   ]
  },
  {
   "cell_type": "code",
   "execution_count": 23,
   "metadata": {},
   "outputs": [
    {
     "data": {
      "text/plain": [
       "Conv2d(3, 6, kernel_size=(5, 5), stride=(1, 1))"
      ]
     },
     "execution_count": 23,
     "metadata": {},
     "output_type": "execute_result"
    }
   ],
   "source": [
    "net.conv1"
   ]
  },
  {
   "cell_type": "code",
   "execution_count": 29,
   "metadata": {},
   "outputs": [
    {
     "data": {
      "image/png": "[encoded data removed]",
      "text/plain": [
       "<Figure size 360x360 with 6 Axes>"
      ]
     },
     "metadata": {},
     "output_type": "display_data"
    }
   ],
   "source": [
    "conv1 = net.conv1\n",
    "weight = conv1.weight.data\n",
    "\n",
    "fig, axes = plt.subplots(1, len(weight), figsize=(5,5))\n",
    "for idx, image in enumerate(weight):\n",
    "    axes[idx].imshow(convert_to_imshow_format(image))\n",
    "    axes[idx].set_xticks([])\n",
    "    axes[idx].set_yticks([])"
   ]
  },
  {
   "cell_type": "code",
   "execution_count": 52,
   "metadata": {},
   "outputs": [],
   "source": [
    "NUM_CLASSES = 10\n",
    "\n",
    "class AlexNet(nn.Module):\n",
    "    def __init__(self, num_classes=NUM_CLASSES):\n",
    "        super(AlexNet, self).__init__()\n",
    "        self.features = nn.Sequential(\n",
    "            nn.Conv2d(3, 64, kernel_size=3, stride=2, padding=1),\n",
    "            nn.ReLU(inplace=True),\n",
    "            nn.MaxPool2d(kernel_size=2),\n",
    "            nn.Conv2d(64, 192, kernel_size=3, padding=1),\n",
    "            nn.ReLU(inplace=True),\n",
    "            nn.MaxPool2d(kernel_size=2),\n",
    "            nn.Conv2d(192, 384, kernel_size=3, padding=1),\n",
    "            nn.ReLU(inplace=True),\n",
    "            nn.Conv2d(384, 256, kernel_size=3, padding=1),\n",
    "            nn.ReLU(inplace=True),\n",
    "            nn.Conv2d(256, 256, kernel_size=3, padding=1),\n",
    "            nn.ReLU(inplace=True),\n",
    "            nn.MaxPool2d(kernel_size=2),\n",
    "        )\n",
    "        self.classifier = nn.Sequential(\n",
    "            nn.Dropout(),\n",
    "            nn.Linear(256 * 2 * 2, 2048),\n",
    "            nn.ReLU(inplace=True),\n",
    "            nn.Dropout(),\n",
    "            nn.Linear(2048, 2048),\n",
    "            nn.ReLU(inplace=True),\n",
    "            nn.Linear(2048, num_classes),\n",
    "        )\n",
    "\n",
    "    def forward(self, x):\n",
    "        x = self.features(x)\n",
    "        x = x.view(x.size(0), 256 * 2 * 2)\n",
    "        x = self.classifier(x)\n",
    "        return x\n",
    "    \n",
    "alex_net = AlexNet()"
   ]
  },
  {
   "cell_type": "code",
   "execution_count": 53,
   "metadata": {},
   "outputs": [],
   "source": [
    "import torch.optim as optim\n",
    "\n",
    "criterion = nn.CrossEntropyLoss()\n",
    "optimizer = optim.SGD(alex_net.parameters(), lr=0.001, momentum=0.9)"
   ]
  },
  {
   "cell_type": "code",
   "execution_count": 54,
   "metadata": {},
   "outputs": [
    {
     "name": "stdout",
     "output_type": "stream",
     "text": [
      "[1,  2000] loss: 2.303\n",
      "[1,  4000] loss: 2.261\n",
      "[1,  6000] loss: 2.063\n",
      "[1,  8000] loss: 1.906\n",
      "[1, 10000] loss: 1.802\n",
      "[1, 12000] loss: 1.728\n",
      "[2,  2000] loss: 1.622\n",
      "[2,  4000] loss: 1.568\n",
      "[2,  6000] loss: 1.456\n",
      "[2,  8000] loss: 1.418\n",
      "[2, 10000] loss: 1.374\n",
      "[2, 12000] loss: 1.324\n",
      "Finished Training.\n",
      "Saved model parameters to disk.\n"
     ]
    }
   ],
   "source": [
    "import os\n",
    "\n",
    "model_directory_path = '/home/CIFAR-10 Classifier Using CNN in PyTorch/model/'\n",
    "model_path = model_directory_path + 'cifar-10-cnn-model_alex_net.pt'\n",
    "\n",
    "if not os.path.exists(model_directory_path):\n",
    "    os.makedirs(model_directory_path)\n",
    "\n",
    "if os.path.isfile(model_path):\n",
    "    # load trained model parameters from disk\n",
    "    alex_net.load_state_dict(torch.load(model_path))\n",
    "    print('Loaded model parameters from disk.')\n",
    "else:\n",
    "    for epoch in range(2):  # loop over the dataset multiple times\n",
    "\n",
    "        running_loss = 0.0\n",
    "        for i, data in enumerate(trainloader, 0):\n",
    "            # get the inputs\n",
    "            inputs, labels = data\n",
    "\n",
    "            # zero the parameter gradients\n",
    "            optimizer.zero_grad()\n",
    "\n",
    "            # forward + backward + optimize\n",
    "            outputs = alex_net(inputs)\n",
    "            loss = criterion(outputs, labels)\n",
    "            loss.backward()\n",
    "            optimizer.step()\n",
    "\n",
    "            # print statistics\n",
    "            running_loss += loss.item()\n",
    "            if i % 2000 == 1999:    # print every 2000 mini-batches\n",
    "                print('[%d, %5d] loss: %.3f' %\n",
    "                      (epoch + 1, i + 1, running_loss / 2000))\n",
    "                running_loss = 0.0\n",
    "    print('Finished Training.')\n",
    "    torch.save(alex_net.state_dict(), model_path)\n",
    "    print('Saved model parameters to disk.')"
   ]
  },
  {
   "cell_type": "code",
   "execution_count": 45,
   "metadata": {},
   "outputs": [
    {
     "data": {
      "image/png": "[encoded data removed]",
      "text/plain": [
       "<Figure size 864x180 with 4 Axes>"
      ]
     },
     "metadata": {},
     "output_type": "display_data"
    }
   ],
   "source": [
    "dataiter = iter(testloader)\n",
    "images, labels = dataiter.next()\n",
    "\n",
    "fig, axes = plt.subplots(1, len(images), figsize=(12,2.5))\n",
    "for idx, image in enumerate(images):\n",
    "    axes[idx].imshow(convert_to_imshow_format(image))\n",
    "    axes[idx].set_title(classes[labels[idx]])\n",
    "    axes[idx].set_xticks([])\n",
    "    axes[idx].set_yticks([])"
   ]
  },
  {
   "cell_type": "code",
   "execution_count": 46,
   "metadata": {},
   "outputs": [
    {
     "name": "stdout",
     "output_type": "stream",
     "text": [
      "tensor([[0.0633, 0.0763, 0.1413, 0.1392, 0.0593, 0.1062, 0.1346, 0.0423, 0.1377,\n",
      "         0.1000],\n",
      "        [0.1124, 0.3729, 0.0102, 0.0065, 0.0060, 0.0033, 0.0047, 0.0070, 0.2456,\n",
      "         0.2314],\n",
      "        [0.1307, 0.1137, 0.1016, 0.0657, 0.0553, 0.0562, 0.1327, 0.0286, 0.1948,\n",
      "         0.1207],\n",
      "        [0.2044, 0.0921, 0.0160, 0.0032, 0.0033, 0.0014, 0.0021, 0.0016, 0.6481,\n",
      "         0.0278]], grad_fn=<SoftmaxBackward>)\n"
     ]
    }
   ],
   "source": [
    "outputs = alex_net(images)\n",
    "sm = nn.Softmax(dim=1)\n",
    "sm_outputs = sm(outputs)\n",
    "print(sm_outputs)"
   ]
  },
  {
   "cell_type": "code",
   "execution_count": 47,
   "metadata": {},
   "outputs": [
    {
     "name": "stdout",
     "output_type": "stream",
     "text": [
      "bird - 0.1413\n",
      "car - 0.3729\n",
      "ship - 0.1948\n",
      "ship - 0.6481\n"
     ]
    }
   ],
   "source": [
    "probs, index = torch.max(sm_outputs, dim=1)\n",
    "\n",
    "for p, i in zip(probs, index):\n",
    "    print('{0} - {1:.4f}'.format(classes[i], p))"
   ]
  },
  {
   "cell_type": "code",
   "execution_count": 48,
   "metadata": {},
   "outputs": [
    {
     "name": "stdout",
     "output_type": "stream",
     "text": [
      "Model accuracy on 10000 test images: 30.14%\n"
     ]
    }
   ],
   "source": [
    "total_correct = 0\n",
    "total_images = 0\n",
    "confusion_matrix = np.zeros([10,10], int)\n",
    "with torch.no_grad():\n",
    "    for data in testloader:\n",
    "        images, labels = data\n",
    "        outputs = alex_net(images)\n",
    "        _, predicted = torch.max(outputs.data, 1)\n",
    "        total_images += labels.size(0)\n",
    "        total_correct += (predicted == labels).sum().item()\n",
    "        for i, l in enumerate(labels):\n",
    "            confusion_matrix[l.item(), predicted[i].item()] += 1 \n",
    "\n",
    "model_accuracy = total_correct / total_images * 100\n",
    "print('Model accuracy on {0} test images: {1:.2f}%'.format(total_images, model_accuracy))"
   ]
  },
  {
   "cell_type": "code",
   "execution_count": 49,
   "metadata": {},
   "outputs": [
    {
     "data": {
      "image/png": "[encoded data removed]",
      "text/plain": [
       "<Figure size 576x432 with 1 Axes>"
      ]
     },
     "metadata": {
      "needs_background": "light"
     },
     "output_type": "display_data"
    }
   ],
   "source": [
    "from matplotlib import pyplot as plt\n",
    "\n",
    "fig, ax = plt.subplots(1,1,figsize=(8,6))\n",
    "ax.matshow(confusion_matrix, aspect='auto', vmin=0, vmax=1000, cmap=plt.get_cmap('Blues'))\n",
    "plt.ylabel('Actual Category')\n",
    "plt.yticks(range(10), classes)\n",
    "plt.xlabel('Predicted Category')\n",
    "plt.xticks(range(10), classes)\n",
    "plt.show()"
   ]
  },
  {
   "cell_type": "code",
   "execution_count": null,
   "metadata": {},
   "outputs": [],
   "source": []
  }
 ],
 "metadata": {
  "kernelspec": {
   "display_name": "Python 3",
   "language": "python",
   "name": "python3"
  },
  "language_info": {
   "codemirror_mode": {
    "name": "ipython",
    "version": 3
   },
   "file_extension": ".py",
   "mimetype": "text/x-python",
   "name": "python",
   "nbconvert_exporter": "python",
   "pygments_lexer": "ipython3",
   "version": "3.8.3"
  }
 },
 "nbformat": 4,
 "nbformat_minor": 4
}

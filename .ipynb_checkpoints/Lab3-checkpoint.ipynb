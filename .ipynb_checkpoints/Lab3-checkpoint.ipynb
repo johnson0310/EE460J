{
 "cells": [
  {
   "cell_type": "code",
   "execution_count": 81,
   "metadata": {},
   "outputs": [],
   "source": [
    "import numpy as np\n",
    "import matplotlib.pyplot as plt\n",
    "import pandas as pd\n",
    "import seaborn as sns\n",
    "import statistics\n",
    "from sklearn import linear_model\n",
    "%matplotlib inline"
   ]
  },
  {
   "cell_type": "markdown",
   "metadata": {},
   "source": [
    "## Problem 1a\n",
    "\n",
    "What is the test error of the “zero-variance” solution, namely, the all-zeros solution?  (Note  that due to the random numbers generated, your solution will not be identical every time you run it, or if you compare with another lab group.  You may consider fixing the random seed).\n",
    "\n",
    "\n"
   ]
  },
  {
   "cell_type": "code",
   "execution_count": 112,
   "metadata": {},
   "outputs": [
    {
     "data": {
      "text/plain": [
       "23748.643660292983"
      ]
     },
     "execution_count": 112,
     "metadata": {},
     "output_type": "execute_result"
    }
   ],
   "source": [
    "samples = 100\n",
    "features = 200\n",
    "X = np.random.randn(samples, features)\n",
    "coefficients = np.ones(features)\n",
    "Y = np.dot(X,coefficients)\n",
    "Y += 0.05*np.random.normal((samples,))\n",
    "\n",
    "test_error = np.dot(Y.T, Y)\n",
    "test_error"
   ]
  },
  {
   "cell_type": "markdown",
   "metadata": {},
   "source": [
    "## Problem 1b\n",
    "\n",
    "The  least-squares  solution  does  not  seem  to  do  too  well,  because  it  has  so  much  variance. Still, it is unbiased.  Show this empirically:  generate many copies of the data, and for each one, obtain the least-squares solution.  Average these, to show that while each run produces a beta hat that is very different, their average begins to look more and more like the true beta."
   ]
  },
  {
   "cell_type": "code",
   "execution_count": 113,
   "metadata": {},
   "outputs": [
    {
     "data": {
      "image/png": "[encoded data removed]",
      "text/plain": [
       "<Figure size 432x288 with 1 Axes>"
      ]
     },
     "metadata": {
      "needs_background": "light"
     },
     "output_type": "display_data"
    }
   ],
   "source": [
    "X_total = []\n",
    "Y_total = []\n",
    "average_beta = []\n",
    "error_ls = []\n",
    "for i in range(0,50):\n",
    "    X = np.random.randn(samples, features)\n",
    "    X_total = X if (len(X_total)==0) else np.vstack([X_total, [X[i,:] for i in range(0, len(X))]])\n",
    "    \n",
    "    Y += 0.05 * np.random.normal((samples,))\n",
    "    Y_total = np.concatenate((Y_total, y), axis=None)\n",
    "\n",
    "    beta_hat = linear_model.LinearRegression().fit(X, y).coef_\n",
    "    \n",
    "    if (i==0):\n",
    "        average_beta = beta_hat\n",
    "    else:\n",
    "        try:\n",
    "            average_beta = (beta_hat+average_beta)/i\n",
    "        except:\n",
    "            average_beta = average_beta\n",
    "        \n",
    "    error_vector = average_beta - coefficients\n",
    "    error_ls.append(np.linalg.norm(error_vector, ord=2)**2)\n",
    "    \n",
    "iterations = np.linspace(1, 50, num=50)\n",
    "plt.plot(iterations, error_ls)\n",
    "plt.xlabel(\"Iterations\")\n",
    "plt.ylabel(\"Error in Beta Averaged\")\n",
    "plt.show()"
   ]
  },
  {
   "cell_type": "markdown",
   "metadata": {},
   "source": [
    "## Problem 1c\n",
    "\n",
    "Alternatively, if one had access to lots of data, instead of computing the least-square solution over smaller batches and then averaging these solutions as in the previous part of the problem,an approach is to run a single least-squares regression over all the data.  Which approach do you think is better?  Can you support your conclusion with experiments?"
   ]
  },
  {
   "cell_type": "code",
   "execution_count": 114,
   "metadata": {},
   "outputs": [
    {
     "data": {
      "text/plain": [
       "200.15950026943847"
      ]
     },
     "execution_count": 114,
     "metadata": {},
     "output_type": "execute_result"
    }
   ],
   "source": [
    "single_lr = linear_model.LinearRegression().fit(X_total, Y_total)\n",
    "beta_hat = single_lr.coef_\n",
    "error = beta_hat - coefficients\n",
    "np.linalg.norm(error)**2"
   ]
  },
  {
   "cell_type": "markdown",
   "metadata": {},
   "source": [
    "The least-square solution regression results in less error, therefore I think this approach is better. With the graph we drew up in Problem 1b, we can see that the average error significantly improves with the number of iterations. \n",
    "\n",
    "Depending on the goal, either could be determined better. If speed was the most important metric, the batch regression would be preferred for a large X.\n",
    "\n",
    "If accuracy were determined more important, the least squares regression would be preferred. "
   ]
  },
  {
   "cell_type": "code",
   "execution_count": null,
   "metadata": {},
   "outputs": [],
   "source": []
  }
 ],
 "metadata": {
  "kernelspec": {
   "display_name": "Python 3",
   "language": "python",
   "name": "python3"
  },
  "language_info": {
   "codemirror_mode": {
    "name": "ipython",
    "version": 3
   },
   "file_extension": ".py",
   "mimetype": "text/x-python",
   "name": "python",
   "nbconvert_exporter": "python",
   "pygments_lexer": "ipython3",
   "version": "3.7.4"
  }
 },
 "nbformat": 4,
 "nbformat_minor": 2
}

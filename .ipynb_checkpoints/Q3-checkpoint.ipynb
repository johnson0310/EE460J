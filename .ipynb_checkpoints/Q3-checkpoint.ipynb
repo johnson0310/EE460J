{
 "cells": [
  {
   "cell_type": "code",
   "execution_count": 8,
   "metadata": {
    "id": "kwPpv66t1MUr"
   },
   "outputs": [],
   "source": [
    "import numpy as np\n",
    "import matplotlib.pyplot as plt\n",
    "from sklearn import datasets, linear_model\n",
    "from sklearn.preprocessing import MinMaxScaler\n",
    "from sklearn.svm import SVR\n",
    "from sklearn.model_selection import KFold\n",
    "import pandas as pd\n",
    "from pandas import DataFrame, Series\n",
    "import seaborn as sns\n",
    "sns.set(style='ticks', palette='Set2')\n",
    "%matplotlib inline"
   ]
  },
  {
   "cell_type": "code",
   "execution_count": 10,
   "metadata": {
    "id": "peYL4XFi1MUx"
   },
   "outputs": [],
   "source": [
    "#read_file = pd.read_csv ('housing.data.txt', header = None, delim_whitespace= True)\n",
    "#read_file.to_csv ('housing_data.csv', index=None)"
   ]
  },
  {
   "cell_type": "code",
   "execution_count": 11,
   "metadata": {
    "id": "tL3CKLJa1MUy"
   },
   "outputs": [],
   "source": [
    "housing = pd.read_csv('housing_data.csv')"
   ]
  },
  {
   "cell_type": "code",
   "execution_count": 12,
   "metadata": {
    "id": "eXJPdXch1MUy"
   },
   "outputs": [],
   "source": [
    "X = housing.iloc[:, [0, 12]]\n",
    "y = housing.iloc[:, 13]"
   ]
  },
  {
   "cell_type": "code",
   "execution_count": 13,
   "metadata": {
    "id": "14CYhfZB1MUy"
   },
   "outputs": [],
   "source": [
    "scaler = MinMaxScaler(feature_range=(0, 1))\n",
    "X = scaler.fit_transform(X)"
   ]
  },
  {
   "cell_type": "code",
   "execution_count": 14,
   "metadata": {
    "id": "QoMM5hAd1MUz"
   },
   "outputs": [],
   "source": [
    "bias = []\n",
    "variance_total = []"
   ]
  },
  {
   "cell_type": "code",
   "execution_count": 15,
   "metadata": {
    "colab": {
     "base_uri": "https://localhost:8080/",
     "height": 0
    },
    "id": "MnI3URQo1MUz",
    "outputId": "1afaf8ff-68dc-4195-93cd-3cfb6f05da80"
   },
   "outputs": [
    {
     "name": "stdout",
     "output_type": "stream",
     "text": [
      "50 Folds: Mean - 0.5756046264442204 | Variance - 0.01621214575019245\n"
     ]
    }
   ],
   "source": [
    "mean_score = []\n",
    "variance = []\n",
    "best_svr = SVR(kernel='rbf')\n",
    "for i in np.arange(1,100):\n",
    "    scores = []\n",
    "    cv = KFold(5, shuffle= True)\n",
    "    for train_index, test_index in cv.split(X):\n",
    "        X_train, X_test, y_train, y_test = X[train_index], X[test_index], y[train_index], y[test_index]\n",
    "        best_svr.fit(X_train, y_train)\n",
    "        scores.append(best_svr.score(X_test, y_test))\n",
    "    mean_score.append(np.mean(scores))\n",
    "    variance.append(np.std(scores))\n",
    "bias.append(np.mean(mean_score))\n",
    "variance_total.append(np.std(variance))\n",
    "print(\"50 Folds: Mean - \" + str(np.mean(mean_score)) + \" | Variance - \" + str(np.std(variance)))"
   ]
  },
  {
   "cell_type": "code",
   "execution_count": 16,
   "metadata": {
    "colab": {
     "base_uri": "https://localhost:8080/",
     "height": 0
    },
    "id": "fNqFudYf1MU0",
    "outputId": "a6b70e79-4d0f-48dc-d9e7-3e24205013a2"
   },
   "outputs": [
    {
     "name": "stdout",
     "output_type": "stream",
     "text": [
      "50 Folds: Mean - 0.5833956249966143 | Variance - 0.017251725110677237\n"
     ]
    }
   ],
   "source": [
    "mean_score = []\n",
    "variance = []\n",
    "best_svr = SVR(kernel='rbf')\n",
    "for i in np.arange(1,100):\n",
    "    scores = []\n",
    "    cv = KFold(10, shuffle= True)\n",
    "    for train_index, test_index in cv.split(X):\n",
    "        X_train, X_test, y_train, y_test = X[train_index], X[test_index], y[train_index], y[test_index]\n",
    "        best_svr.fit(X_train, y_train)\n",
    "        scores.append(best_svr.score(X_test, y_test))\n",
    "    mean_score.append(np.mean(scores))\n",
    "    variance.append(np.std(scores))\n",
    "bias.append(np.mean(mean_score))\n",
    "variance_total.append(np.std(variance))\n",
    "print(\"50 Folds: Mean - \" + str(np.mean(mean_score)) + \" | Variance - \" + str(np.std(variance)))"
   ]
  },
  {
   "cell_type": "code",
   "execution_count": 17,
   "metadata": {
    "colab": {
     "base_uri": "https://localhost:8080/",
     "height": 0
    },
    "id": "Lagn0NjD1MU0",
    "outputId": "4eb3431e-fb95-42a0-b783-6605cc4d9e63"
   },
   "outputs": [
    {
     "name": "stdout",
     "output_type": "stream",
     "text": [
      "50 Folds: Mean - 0.5824509527907801 | Variance - 0.017676315213079788\n"
     ]
    }
   ],
   "source": [
    "mean_score = []\n",
    "variance = []\n",
    "best_svr = SVR(kernel='rbf')\n",
    "for i in np.arange(1,100):\n",
    "    scores = []\n",
    "    cv = KFold(20, shuffle= True)\n",
    "    for train_index, test_index in cv.split(X):\n",
    "        X_train, X_test, y_train, y_test = X[train_index], X[test_index], y[train_index], y[test_index]\n",
    "        best_svr.fit(X_train, y_train)\n",
    "        scores.append(best_svr.score(X_test, y_test))\n",
    "    mean_score.append(np.mean(scores))\n",
    "    variance.append(np.std(scores))\n",
    "bias.append(np.mean(mean_score))\n",
    "variance_total.append(np.std(variance))\n",
    "print(\"50 Folds: Mean - \" + str(np.mean(mean_score)) + \" | Variance - \" + str(np.std(variance)))"
   ]
  },
  {
   "cell_type": "code",
   "execution_count": 18,
   "metadata": {
    "colab": {
     "base_uri": "https://localhost:8080/",
     "height": 0
    },
    "id": "NBDO3ba01MU1",
    "outputId": "be899d12-79d8-425c-df73-e4c9a30998be"
   },
   "outputs": [
    {
     "name": "stdout",
     "output_type": "stream",
     "text": [
      "50 Folds: Mean - 0.5438518638280582 | Variance - 0.07102601150329856\n"
     ]
    }
   ],
   "source": [
    "mean_score = []\n",
    "variance = []\n",
    "best_svr = SVR(kernel='rbf')\n",
    "for i in np.arange(1,100):\n",
    "    scores = []\n",
    "    cv = KFold(50, shuffle= True)\n",
    "    for train_index, test_index in cv.split(X):\n",
    "        X_train, X_test, y_train, y_test = X[train_index], X[test_index], y[train_index], y[test_index]\n",
    "        best_svr.fit(X_train, y_train)\n",
    "        scores.append(best_svr.score(X_test, y_test))\n",
    "    mean_score.append(np.mean(scores))\n",
    "    variance.append(np.std(scores))\n",
    "bias.append(np.mean(mean_score))\n",
    "variance_total.append(np.std(variance))\n",
    "print(\"50 Folds: Mean - \" + str(np.mean(mean_score)) + \" | Variance - \" + str(np.std(variance)))"
   ]
  },
  {
   "cell_type": "code",
   "execution_count": 19,
   "metadata": {
    "colab": {
     "base_uri": "https://localhost:8080/",
     "height": 0
    },
    "id": "-GiRC0Im1MU1",
    "outputId": "453822d8-cf7f-40b6-e4e2-7b2052714578"
   },
   "outputs": [
    {
     "name": "stdout",
     "output_type": "stream",
     "text": [
      "50 Folds: Mean - 0.5426904073913306 | Variance - 0.2241660726495882\n"
     ]
    }
   ],
   "source": [
    "mean_score = []\n",
    "variance = []\n",
    "best_svr = SVR(kernel='rbf')\n",
    "for i in np.arange(1,100):\n",
    "    scores = []\n",
    "    cv = KFold(50, shuffle= True)\n",
    "    for train_index, test_index in cv.split(X):\n",
    "        X_train, X_test, y_train, y_test = X[train_index], X[test_index], y[train_index], y[test_index]\n",
    "        best_svr.fit(X_train, y_train)\n",
    "        scores.append(best_svr.score(X_test, y_test))\n",
    "    mean_score.append(np.mean(scores))\n",
    "    variance.append(np.std(scores))\n",
    "bias.append(np.mean(mean_score))\n",
    "variance_total.append(np.std(variance))\n",
    "print(\"50 Folds: Mean - \" + str(np.mean(mean_score)) + \" | Variance - \" + str(np.std(variance)))"
   ]
  },
  {
   "cell_type": "code",
   "execution_count": 20,
   "metadata": {
    "id": "9soJWEiN1MU1"
   },
   "outputs": [],
   "source": [
    "k = [5, 10, 20, 50, 100]"
   ]
  },
  {
   "cell_type": "code",
   "execution_count": 21,
   "metadata": {
    "colab": {
     "base_uri": "https://localhost:8080/",
     "height": 318
    },
    "id": "tsJhMYlA1MU2",
    "outputId": "a4b34f89-2a10-48d2-d0ec-ef77425472c9"
   },
   "outputs": [
    {
     "data": {
      "text/plain": [
       "Text(0, 0.5, 'Bias')"
      ]
     },
     "execution_count": 21,
     "metadata": {
      "tags": []
     },
     "output_type": "execute_result"
    },
    {
     "data": {
      "image/png": "[encoded data removed]",
      "text/plain": [
       "<Figure size 432x288 with 1 Axes>"
      ]
     },
     "metadata": {
      "needs_background": "light",
      "tags": []
     },
     "output_type": "display_data"
    }
   ],
   "source": [
    "plt.plot(k, bias)\n",
    "plt.title('Bias vs. K-Folds')\n",
    "plt.xlabel('Folds')\n",
    "plt.ylabel('Bias')"
   ]
  },
  {
   "cell_type": "code",
   "execution_count": 22,
   "metadata": {
    "colab": {
     "base_uri": "https://localhost:8080/",
     "height": 318
    },
    "id": "EvizblHW1MU2",
    "outputId": "c858a3a5-3f7e-42d2-d711-7729ad5748f1"
   },
   "outputs": [
    {
     "data": {
      "text/plain": [
       "Text(0, 0.5, 'Variance')"
      ]
     },
     "execution_count": 22,
     "metadata": {
      "tags": []
     },
     "output_type": "execute_result"
    },
    {
     "data": {
      "image/png": "[encoded data removed]",
      "text/plain": [
       "<Figure size 432x288 with 1 Axes>"
      ]
     },
     "metadata": {
      "needs_background": "light",
      "tags": []
     },
     "output_type": "display_data"
    }
   ],
   "source": [
    "plt.plot(k, variance_total)\n",
    "plt.title('Variance vs. K-Folds')\n",
    "plt.xlabel('Folds')\n",
    "plt.ylabel('Variance')"
   ]
  },
  {
   "cell_type": "code",
   "execution_count": 26,
   "metadata": {
    "id": "yNpMvAwS1MU3"
   },
   "outputs": [],
   "source": [
    "v = np.array(variance_total)"
   ]
  },
  {
   "cell_type": "code",
   "execution_count": 27,
   "metadata": {
    "colab": {
     "base_uri": "https://localhost:8080/",
     "height": 318
    },
    "id": "mznlOKQM1MU3",
    "outputId": "c0c380d7-10fc-4e08-8ba4-a9a975fb2ff6"
   },
   "outputs": [
    {
     "data": {
      "text/plain": [
       "Text(0, 0.5, 'Inverse Variance')"
      ]
     },
     "execution_count": 27,
     "metadata": {
      "tags": []
     },
     "output_type": "execute_result"
    },
    {
     "data": {
      "image/png": "[encoded data removed]",
      "text/plain": [
       "<Figure size 432x288 with 1 Axes>"
      ]
     },
     "metadata": {
      "needs_background": "light",
      "tags": []
     },
     "output_type": "display_data"
    }
   ],
   "source": [
    "plt.plot(k, 1/v)\n",
    "plt.title('Inverse Variance vs. K-Folds')\n",
    "plt.xlabel('Folds')\n",
    "plt.ylabel('Inverse Variance')"
   ]
  },
  {
   "cell_type": "code",
   "execution_count": null,
   "metadata": {
    "id": "Ti0ig3rb1MU3"
   },
   "outputs": [],
   "source": [
    "# Looking at this simulation, it seems as though the claim that bias increases as variance decreases is true.\n",
    "# However, in this graph, at a small K, our bias inccreases as we get larger rather than decreases.\n",
    "# This is also sometimes true with our Variance. During some iterations, we can see that it decreases at lower folds around 10 to 20 before increasing."
   ]
  }
 ],
 "metadata": {
  "colab": {
   "name": "Q3.ipynb",
   "provenance": [],
   "toc_visible": true
  },
  "kernelspec": {
   "display_name": "Python 3",
   "language": "python",
   "name": "python3"
  },
  "language_info": {
   "codemirror_mode": {
    "name": "ipython",
    "version": 3
   },
   "file_extension": ".py",
   "mimetype": "text/x-python",
   "name": "python",
   "nbconvert_exporter": "python",
   "pygments_lexer": "ipython3",
   "version": "3.7.6"
  }
 },
 "nbformat": 4,
 "nbformat_minor": 1
}

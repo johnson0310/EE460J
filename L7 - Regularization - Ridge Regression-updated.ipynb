{
 "cells": [
  {
   "cell_type": "raw",
   "metadata": {},
   "source": [
    "# Regularization: L2 Regularized Regression, aka Ridge regression aka weight decay"
   ]
  },
  {
   "cell_type": "markdown",
   "metadata": {},
   "source": [
    "In this notebook we explore Ridge Regression and what it might be good for"
   ]
  },
  {
   "cell_type": "code",
   "execution_count": 77,
   "metadata": {},
   "outputs": [],
   "source": [
    "from __future__ import division\n",
    "import numpy as np\n",
    "import matplotlib.pyplot as plt\n",
    "from sklearn import datasets, linear_model\n",
    "import pandas as pd\n",
    "from pandas import DataFrame, Series\n",
    "import seaborn as sns\n",
    "#from sklearn.cross_validation import train_test_split\n",
    "from sklearn.model_selection import train_test_split\n",
    "sns.set(style='ticks', palette='Set2')\n",
    "%matplotlib inline"
   ]
  },
  {
   "cell_type": "markdown",
   "metadata": {},
   "source": [
    "Recall that the Ordinary Least Squares (OLS) regression solution for the linear model $y = X\\beta + e$, is given by\n",
    "\n",
    "$$\n",
    "\\arg\\min_{\\beta}: \\,\\, \\|X \\beta - y\\|_2^2 = \\arg\\min_{\\beta}{\\rm SSE}(\\beta)\n",
    "$$\n",
    "\n",
    "Regularization adds a penalty. Ridge regression adds a squared penalty which serves to regularize and shrink the coefficients:\n",
    "\n",
    "$$\n",
    "\\arg\\min_{\\beta}{\\rm SSE}(\\beta) + \\lambda \\sum \\beta_i^2 = \\arg\\min_{\\beta}{\\rm SSE}(\\beta) + \\lambda \\|\\beta\\|_2^2\n",
    "$$"
   ]
  },
  {
   "cell_type": "markdown",
   "metadata": {},
   "source": [
    "# Some Examples"
   ]
  },
  {
   "cell_type": "code",
   "execution_count": 78,
   "metadata": {},
   "outputs": [
    {
     "data": {
      "image/png": "[encoded data removed]",
      "text/plain": [
       "<Figure size 432x288 with 1 Axes>"
      ]
     },
     "metadata": {
      "needs_background": "light"
     },
     "output_type": "display_data"
    }
   ],
   "source": [
    "# A first (stylized) example of what Ridge Regression does\n",
    "\n",
    "# Author: Fabian Pedregosa -- <fabian.pedregosa@inria.fr>\n",
    "# License: BSD 3 clause\n",
    "\n",
    "# We generate the data\n",
    "# X is the 10x10 Hilbert matrix\n",
    "X = 1. / (np.arange(1, 11) + np.arange(0, 10)[:, np.newaxis])\n",
    "y = np.ones(10)\n",
    "\n",
    "# #############################################################################\n",
    "# Compute paths\n",
    "\n",
    "n_alphas = 200\n",
    "alphas = np.logspace(-10, -2, n_alphas)\n",
    "\n",
    "coefs = []\n",
    "for a in alphas:\n",
    "    ridge = linear_model.Ridge(alpha=a, fit_intercept=False)\n",
    "    ridge.fit(X, y)\n",
    "    coefs.append(ridge.coef_)\n",
    "\n",
    "# #############################################################################\n",
    "# Display results\n",
    "\n",
    "ax = plt.gca()\n",
    "\n",
    "ax.plot(alphas, coefs)\n",
    "ax.set_xscale('log')\n",
    "ax.set_xlim(ax.get_xlim()[::-1])  # reverse axis\n",
    "plt.xlabel('lamda')\n",
    "plt.ylabel('weights')\n",
    "plt.title('Ridge coefficients as a function of the regularization')\n",
    "plt.axis('tight')\n",
    "plt.show()"
   ]
  },
  {
   "cell_type": "markdown",
   "metadata": {},
   "source": [
    "# Another example: Correlated / Co-linear columns"
   ]
  },
  {
   "cell_type": "markdown",
   "metadata": {},
   "source": [
    "Recall that the normal equations are:\n",
    "$$ \\hat{\\beta} = (X^{\\top}X)^{-1}X^{\\top}y = \\beta^{\\ast} + (X^{\\top}X)^{-1}X^{\\top} e $$\n",
    "\n",
    "When would $X^{\\top}X$ fail to be invertible, or be \"close\" to non-invertible?\n",
    "\n",
    "If we have more features than data points, i.e., $n < d$, then the matrix will be non-invertible.\n",
    "\n",
    "Even in the $d < n$ setting (more data points than features -- this is typically where we want to be) the matrix $X^{\\top}X$ may fail to be invertible if the columns are co-linear."
   ]
  },
  {
   "cell_type": "code",
   "execution_count": 103,
   "metadata": {},
   "outputs": [],
   "source": [
    "# correlated columns\n",
    "# Suppose p = 5, n = 500 -- a good ratio\n",
    "p = 5; n = 150\n",
    "X = np.random.randn(n,p)\n",
    "c = np.dot(X[:,0:p-1],[2,3,-1,0.5]) + np.random.randn(1,n)/1000;\n",
    "# c is a column that is approximately a linear combination of\n",
    "# columns 1, 2, 3 and 4. We set the 5th column of X equal to c\n",
    "X[:,p-1] = c\n",
    "beta = np.array([1,1,1,1,0])\n",
    "sigma = 0.3333\n",
    "y = np.dot(X,beta) + sigma*np.random.randn(n)\n",
    "# Now let's also generate a test data set\n",
    "n1 = 500 # number of testing points\n",
    "X_test = np.random.randn(n1,p)\n",
    "# In the test set, there's more noise in the 5th column\n",
    "c_test = np.dot(X_test[:,0:p-1],[2,3,-1,0.5]) + np.random.randn(1,n1)/50;\n",
    "X_test[:,p-1] = c_test\n",
    "y_test = np.dot(X_test,beta) + sigma*np.random.randn(n1)"
   ]
  },
  {
   "cell_type": "code",
   "execution_count": 104,
   "metadata": {},
   "outputs": [
    {
     "data": {
      "text/plain": [
       "array([2.22342759e+03, 1.04918072e-05, 1.87006209e+02, 1.45749680e+02,\n",
       "       1.32806632e+02])"
      ]
     },
     "execution_count": 104,
     "metadata": {},
     "output_type": "execute_result"
    }
   ],
   "source": [
    "# Note that the matrix Z = X'X has a very small eigenvalue.\n",
    "Z = np.dot(X.T,X)\n",
    "np.linalg.eig(Z)[0]"
   ]
  },
  {
   "cell_type": "code",
   "execution_count": 89,
   "metadata": {},
   "outputs": [
    {
     "data": {
      "text/plain": [
       "array([8.17016551e+04, 4.47400585e-04, 5.94901642e-03, 6.95819924e-03,\n",
       "       6.60061916e-03])"
      ]
     },
     "execution_count": 89,
     "metadata": {},
     "output_type": "execute_result"
    }
   ],
   "source": [
    "# That means that its inverse has some very big eigenvalues.\n",
    "# In fact, recall that the eigenvalues of the inverse matrix\n",
    "# are always the inverse (one over) the eigenvalues of the original\n",
    "# matrix.\n",
    "np.linalg.eig(np.linalg.inv(Z))[0]"
   ]
  },
  {
   "cell_type": "code",
   "execution_count": 90,
   "metadata": {},
   "outputs": [
    {
     "name": "stdout",
     "output_type": "stream",
     "text": [
      "[-24.55772765 -37.32469355  13.75628748  -5.44917636  12.76847052]\n"
     ]
    }
   ],
   "source": [
    "# And remember that the formula for beta is\n",
    "# beta_hat = (X'X)^-1 X'y\n",
    "# and if we plug in: y = X beta* + Noise \n",
    "# (where beta* is the true solution), we get\n",
    "# beta_hat = beta* + (X'X)^-1 X' Noise\n",
    "#\n",
    "# Multiplying the noise by (X'X)^-1 has the potential to blow up the noise\n",
    "# and this is exactly what happens.\n",
    "\n",
    "beta_hat = np.dot(np.dot(np.linalg.inv(Z),X.T),y.T)\n",
    "print(beta_hat)"
   ]
  },
  {
   "cell_type": "markdown",
   "metadata": {},
   "source": [
    "To see that this is indeed \"noise applification\" go up a few cells and set sigma = 0 (it's set to 0.333 in the original version of this notebook). When you do that, you are setting the additive error in \"y = X \\beta + Noise\" to zero. Hence there is no noise to amplify. Hence there are no problems with the huge eigenvalues of (X'X)^-1, and we still recover the correct answer. But even a little bit of error, and this goes out the window."
   ]
  },
  {
   "cell_type": "code",
   "execution_count": 92,
   "metadata": {},
   "outputs": [
    {
     "data": {
      "text/plain": [
       "9.203314333623213"
      ]
     },
     "execution_count": 92,
     "metadata": {},
     "output_type": "execute_result"
    }
   ],
   "source": [
    "# Now let's compute the test error of OLS.\n",
    "# You can see that it's not that good (it's big).\n",
    "np.linalg.norm(np.dot(X_test,beta_hat) - y_test)"
   ]
  },
  {
   "cell_type": "code",
   "execution_count": 94,
   "metadata": {},
   "outputs": [
    {
     "data": {
      "text/plain": [
       "7.3937978555897805"
      ]
     },
     "execution_count": 94,
     "metadata": {},
     "output_type": "execute_result"
    }
   ],
   "source": [
    "# For comparison, the true error for the optimal beta is:\n",
    "np.linalg.norm(np.dot(X_test,beta) - y_test)"
   ]
  },
  {
   "cell_type": "markdown",
   "metadata": {},
   "source": [
    "The Ridge regression solution is:\n",
    "$$ \\hat{\\beta}_{RR}(\\lambda) = (X^{\\top}X + \\lambda I)^{-1}X^{\\top}y $$"
   ]
  },
  {
   "cell_type": "code",
   "execution_count": 96,
   "metadata": {},
   "outputs": [
    {
     "name": "stdout",
     "output_type": "stream",
     "text": [
      "[2.23513342e+03 1.22396542e-05 1.68095014e+02 1.43715344e+02\n",
      " 1.51500939e+02]\n",
      "[2.23528342e+03 1.50012240e-01 1.68245014e+02 1.43865344e+02\n",
      " 1.51650939e+02]\n"
     ]
    }
   ],
   "source": [
    "# Now we will add some regularization -- aka weight decay.\n",
    "# Linear regression plus weight decay also has a closed form solution:\n",
    "#\n",
    "# beta_hat_R = (X'X + mu I)^-1 X'y -- compare to beta_hat = (X'X)^-1 X'y\n",
    "# where I is the p by p identity matrix.\n",
    "# \n",
    "# Adding a small multiple of the identity to X'X barely changes the large eigenvalues, \n",
    "# but it drastically changes the smallest eigenvalue -- it increases it to mu.\n",
    "# Thus in the inverse, the largest eigenvalue will be at most 1/mu.\n",
    "# Let's see this in action\n",
    "#\n",
    "lamda = .15\n",
    "print(np.linalg.eig(Z)[0])\n",
    "print(np.linalg.eig(Z + lamda*np.eye(p))[0])"
   ]
  },
  {
   "cell_type": "code",
   "execution_count": 98,
   "metadata": {},
   "outputs": [
    {
     "name": "stdout",
     "output_type": "stream",
     "text": [
      "[0.39054599 0.11876069 1.23572529 0.76713258 0.28569303]\n"
     ]
    }
   ],
   "source": [
    "# Now we can form the solution to the weight-decay problem, using\n",
    "# the closed-form formula from above\n",
    "beta_hat_R = np.dot(np.dot(np.linalg.inv(Z + mu*np.eye(p)),X.T),y.T)\n",
    "print(beta_hat_R)"
   ]
  },
  {
   "cell_type": "markdown",
   "metadata": {},
   "source": [
    "Note that in the above, the values are all much more controlled. There is no \"error explosion\" as in the OLS case. You may ask, however: why don't we recover the solution beta* = [1,1,1,1,0]? \n",
    "\n",
    "In fact, we cannot. Think about a case where two columns (say, columns 1 and 2) are identical. Then there's nothing the data can do to differentiate between putting weight on column 1 or column 2 or somehow splitting it between the two. {\\em Any of these options produces exactly the same prediction function}. And note that since column 5 is twice the first plus 3 times the second minus the third plus 1/2 times the fourth, we have above precisely the right solution: 0.53794428 + 2 * 0.23421377 is approximately 1. 0.30061129 + 3 * 0.23421377 is approximately 1. 1.2239305 - 0.23421377 is approximately 1. And 0.87410259 + (1/2)*0.23421377 is approximately 1."
   ]
  },
  {
   "cell_type": "code",
   "execution_count": 100,
   "metadata": {},
   "outputs": [
    {
     "data": {
      "text/plain": [
       "7.79347394652098"
      ]
     },
     "execution_count": 100,
     "metadata": {},
     "output_type": "execute_result"
    }
   ],
   "source": [
    "# Finally, let's compute the test error for the ridge regression solution.\n",
    "np.linalg.norm(np.dot(X_test,beta_hat_R) - y_test)"
   ]
  },
  {
   "cell_type": "code",
   "execution_count": 101,
   "metadata": {},
   "outputs": [
    {
     "name": "stdout",
     "output_type": "stream",
     "text": [
      "[1 1 1 1 0]\n",
      "[-24.55772765 -37.32469355  13.75628748  -5.44917636  12.76847052]\n",
      "[0.39054599 0.11876069 1.23572529 0.76713258 0.28569303]\n"
     ]
    }
   ],
   "source": [
    "# Let's again see the original solution, \n",
    "# the OLS solution (noise explosion), and the weight-decay version\n",
    "# (aka ridge regression)\n",
    "print(beta)\n",
    "print(beta_hat)\n",
    "print(beta_hat_R)"
   ]
  },
  {
   "cell_type": "code",
   "execution_count": 102,
   "metadata": {},
   "outputs": [
    {
     "name": "stdout",
     "output_type": "stream",
     "text": [
      "The test error for the true solution:  7.3937978555897805\n",
      "The test error for the OLS solution:  9.203314333623213\n",
      "The test error for the Ridge Regression solution:  7.79347394652098\n"
     ]
    }
   ],
   "source": [
    "# And let's again print the test error for the original solution,\n",
    "# the OLS solution (and hence the impact of noise explosion)\n",
    "# and then the weight-decay (ridge regression) version.\n",
    "#\n",
    "# As you can see, the Ridge-Regression solution has test error\n",
    "# far far closer to the error of the true solution, than\n",
    "# the OLS solution does.\n",
    "\n",
    "print(\"The test error for the true solution: \", np.linalg.norm(np.dot(X_test,beta) - y_test))\n",
    "print(\"The test error for the OLS solution: \", np.linalg.norm(np.dot(X_test,beta_hat) - y_test))\n",
    "print(\"The test error for the Ridge Regression solution: \", np.linalg.norm(np.dot(X_test,beta_hat_R) - y_test))"
   ]
  },
  {
   "cell_type": "markdown",
   "metadata": {},
   "source": [
    "# Visualizing the Bias-Variance Tradeoff"
   ]
  },
  {
   "cell_type": "code",
   "execution_count": 74,
   "metadata": {},
   "outputs": [],
   "source": [
    "# We repeat the entire experiment M times\n",
    "M = 10000\n",
    "# the regularization coeff for ridge is mu\n",
    "mu = 5\n",
    "beta_OLS = np.zeros(M)\n",
    "beta_R5 = np.zeros(M)\n",
    "beta_R10 = np.zeros(M)\n",
    "beta_R25 = np.zeros(M)\n",
    "beta_R50 = np.zeros(M)\n",
    "for i in np.arange(M):\n",
    "        n = 1000\n",
    "        X = np.random.randn(n)\n",
    "        beta = 1.75\n",
    "        y = X*beta + np.random.randn(n)*20\n",
    "        beta_OLS[i] = np.dot(X,y)/np.dot(X,X)\n",
    "        beta_R5[i] = np.dot(X,y)/(np.dot(X,X)+5)\n",
    "        beta_R10[i] = np.dot(X,y)/(np.dot(X,X)+10)\n",
    "        beta_R25[i] = np.dot(X,y)/(np.dot(X,X)+25)\n",
    "        beta_R50[i] = np.dot(X,y)/(np.dot(X,X)+50)"
   ]
  },
  {
   "cell_type": "code",
   "execution_count": 75,
   "metadata": {},
   "outputs": [
    {
     "name": "stdout",
     "output_type": "stream",
     "text": [
      "The mean of the OLS solution is:  1.745228763906847\n",
      "The mean of the Ridge5 solution is:  1.7365330340667167\n",
      "The mean of the Ridge10 solution is:  1.7279236965572577\n",
      "The mean of the Ridge25 solution is:  1.7026013284102424\n",
      "The mean of the Ridge50 solution is:  1.6620102617898556\n"
     ]
    }
   ],
   "source": [
    "print(\"The mean of the OLS solution is: \", np.mean(beta_OLS))\n",
    "print(\"The mean of the Ridge5 solution is: \", np.mean(beta_R5))\n",
    "print(\"The mean of the Ridge10 solution is: \", np.mean(beta_R10))\n",
    "print(\"The mean of the Ridge25 solution is: \", np.mean(beta_R25))\n",
    "print(\"The mean of the Ridge50 solution is: \", np.mean(beta_R50))"
   ]
  },
  {
   "cell_type": "code",
   "execution_count": 76,
   "metadata": {},
   "outputs": [
    {
     "name": "stdout",
     "output_type": "stream",
     "text": [
      "The standard deviation of the OLS solution is:  0.6397927404165054\n",
      "The standard deviation of the Ridge5 solution is:  0.6365926346287899\n",
      "The standard deviation of the Ridge10 solution is:  0.6334247005616577\n",
      "The standard deviation of the Ridge25 solution is:  0.624109104183042\n",
      "The standard deviation of the Ridge50 solution is:  0.6091829397340459\n"
     ]
    }
   ],
   "source": [
    "print(\"The standard deviation of the OLS solution is: \", np.std(beta_OLS))\n",
    "print(\"The standard deviation of the Ridge5 solution is: \", np.std(beta_R5))\n",
    "print(\"The standard deviation of the Ridge10 solution is: \", np.std(beta_R10))\n",
    "print(\"The standard deviation of the Ridge25 solution is: \", np.std(beta_R25))\n",
    "print(\"The standard deviation of the Ridge50 solution is: \", np.std(beta_R50))"
   ]
  },
  {
   "cell_type": "code",
   "execution_count": 57,
   "metadata": {},
   "outputs": [
    {
     "data": {
      "image/png": "[encoded data removed]",
      "text/plain": [
       "<Figure size 432x288 with 1 Axes>"
      ]
     },
     "metadata": {
      "needs_background": "light"
     },
     "output_type": "display_data"
    }
   ],
   "source": [
    "rng = np.random.RandomState(10)  # deterministic random data\n",
    "a = np.hstack((rng.normal(size=1000),\n",
    "               rng.normal(loc=5, scale=2, size=1000)))\n",
    "_ = plt.hist(beta_OLS, bins='auto')  # arguments are passed to np.histogram\n",
    "plt.title(\"Histogram with 'auto' bins\")\n",
    "plt.show()"
   ]
  },
  {
   "cell_type": "code",
   "execution_count": 58,
   "metadata": {},
   "outputs": [
    {
     "data": {
      "image/png": "[encoded data removed]",
      "text/plain": [
       "<Figure size 432x288 with 1 Axes>"
      ]
     },
     "metadata": {
      "needs_background": "light"
     },
     "output_type": "display_data"
    }
   ],
   "source": [
    "rng = np.random.RandomState(10)  # deterministic random data\n",
    "a = np.hstack((rng.normal(size=1000),\n",
    "               rng.normal(loc=5, scale=2, size=1000)))\n",
    "_ = plt.hist(beta_R5, bins='auto')  # arguments are passed to np.histogram\n",
    "plt.title(\"Histogram with 'auto' bins\")\n",
    "plt.show()"
   ]
  },
  {
   "cell_type": "code",
   "execution_count": 59,
   "metadata": {},
   "outputs": [
    {
     "data": {
      "image/png": "[encoded data removed]",
      "text/plain": [
       "<Figure size 432x288 with 1 Axes>"
      ]
     },
     "metadata": {
      "needs_background": "light"
     },
     "output_type": "display_data"
    }
   ],
   "source": [
    "rng = np.random.RandomState(10)  # deterministic random data\n",
    "a = np.hstack((rng.normal(size=1000),\n",
    "               rng.normal(loc=5, scale=2, size=1000)))\n",
    "_ = plt.hist(beta_R10, bins='auto')  # arguments are passed to np.histogram\n",
    "plt.title(\"Histogram with 'auto' bins\")\n",
    "plt.show()"
   ]
  },
  {
   "cell_type": "code",
   "execution_count": 53,
   "metadata": {},
   "outputs": [
    {
     "data": {
      "image/png": "[encoded data removed]",
      "text/plain": [
       "<Figure size 432x288 with 1 Axes>"
      ]
     },
     "metadata": {
      "needs_background": "light"
     },
     "output_type": "display_data"
    }
   ],
   "source": [
    "rng = np.random.RandomState(10)  # deterministic random data\n",
    "a = np.hstack((rng.normal(size=1000),\n",
    "               rng.normal(loc=5, scale=2, size=1000)))\n",
    "_ = plt.hist(beta_R25, bins='auto')  # arguments are passed to np.histogram\n",
    "plt.title(\"Histogram with 'auto' bins\")\n",
    "plt.show()"
   ]
  },
  {
   "cell_type": "code",
   "execution_count": null,
   "metadata": {},
   "outputs": [],
   "source": []
  },
  {
   "cell_type": "code",
   "execution_count": null,
   "metadata": {},
   "outputs": [],
   "source": []
  }
 ],
 "metadata": {
  "kernelspec": {
   "display_name": "Python 3",
   "language": "python",
   "name": "python3"
  },
  "language_info": {
   "codemirror_mode": {
    "name": "ipython",
    "version": 3
   },
   "file_extension": ".py",
   "mimetype": "text/x-python",
   "name": "python",
   "nbconvert_exporter": "python",
   "pygments_lexer": "ipython3",
   "version": "3.7.4"
  }
 },
 "nbformat": 4,
 "nbformat_minor": 1
}

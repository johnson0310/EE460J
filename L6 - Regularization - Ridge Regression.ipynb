{
 "cells": [
  {
   "cell_type": "raw",
   "metadata": {},
   "source": [
    "# Regularization: L2 Regularized Regression, aka Ridge regression aka weight decay"
   ]
  },
  {
   "cell_type": "markdown",
   "metadata": {},
   "source": [
    "In this notebook we explore Ridge Regression and what it might be good for"
   ]
  },
  {
   "cell_type": "code",
   "execution_count": 140,
   "metadata": {},
   "outputs": [],
   "source": [
    "from __future__ import division\n",
    "import numpy as np\n",
    "import matplotlib.pyplot as plt\n",
    "from sklearn import datasets, linear_model\n",
    "import pandas as pd\n",
    "from pandas import DataFrame, Series\n",
    "import seaborn as sns\n",
    "#from sklearn.cross_validation import train_test_split\n",
    "from sklearn.model_selection import train_test_split\n",
    "sns.set(style='ticks', palette='Set2')\n",
    "%matplotlib inline"
   ]
  },
  {
   "cell_type": "markdown",
   "metadata": {},
   "source": [
    "Recall that the Ordinary Least Squares (OLS) regression solution for the linear model $y = X\\beta + e$, is given by\n",
    "\n",
    "$$\n",
    "\\arg\\min_{\\beta}: \\,\\, \\|X \\beta - y\\|_2^2 = \\arg\\min_{\\beta}{\\rm SSE}(\\beta)\n",
    "$$\n",
    "\n",
    "Regularization adds a penalty. Ridge regression adds a squared penalty which serves to regularize and shrink the coefficients:\n",
    "\n",
    "$$\n",
    "\\arg\\min_{\\beta}{\\rm SSE}(\\beta) + \\lambda \\sum \\beta_i^2 = \\arg\\min_{\\beta}{\\rm SSE}(\\beta) + \\lambda \\|\\beta\\|_2^2\n",
    "$$"
   ]
  },
  {
   "cell_type": "markdown",
   "metadata": {},
   "source": [
    "# Some Examples"
   ]
  },
  {
   "cell_type": "code",
   "execution_count": 142,
   "metadata": {},
   "outputs": [
    {
     "data": {
      "image/png": "[encoded data removed]",
      "text/plain": [
       "<Figure size 432x288 with 1 Axes>"
      ]
     },
     "metadata": {
      "needs_background": "light"
     },
     "output_type": "display_data"
    }
   ],
   "source": [
    "# A first (stylized) example of what Ridge Regression does\n",
    "\n",
    "# Author: Fabian Pedregosa -- <fabian.pedregosa@inria.fr>\n",
    "# License: BSD 3 clause\n",
    "\n",
    "# We generate the data\n",
    "# X is the 10x10 Hilbert matrix\n",
    "X = 1. / (np.arange(1, 11) + np.arange(0, 10)[:, np.newaxis])\n",
    "y = np.ones(10)\n",
    "\n",
    "# #############################################################################\n",
    "# Compute paths\n",
    "\n",
    "n_alphas = 200\n",
    "alphas = np.logspace(-10, -2, n_alphas)\n",
    "\n",
    "coefs = []\n",
    "for a in alphas:\n",
    "    ridge = linear_model.Ridge(alpha=a, fit_intercept=False)\n",
    "    ridge.fit(X, y)\n",
    "    coefs.append(ridge.coef_)\n",
    "\n",
    "# #############################################################################\n",
    "# Display results\n",
    "\n",
    "ax = plt.gca()\n",
    "\n",
    "ax.plot(alphas, coefs)\n",
    "ax.set_xscale('log')\n",
    "ax.set_xlim(ax.get_xlim()[::-1])  # reverse axis\n",
    "plt.xlabel('lamda')\n",
    "plt.ylabel('weights')\n",
    "plt.title('Ridge coefficients as a function of the regularization')\n",
    "plt.axis('tight')\n",
    "plt.show()"
   ]
  },
  {
   "cell_type": "markdown",
   "metadata": {},
   "source": [
    "# Another example: Correlated / Co-linear columns"
   ]
  },
  {
   "cell_type": "code",
   "execution_count": 122,
   "metadata": {},
   "outputs": [],
   "source": [
    "# correlated columns\n",
    "# Suppose p = 5, n = 500 -- a good ratio\n",
    "p = 5; n = 150\n",
    "X = np.random.randn(n,p)\n",
    "c = np.dot(X[:,0:p-1],[2,3,-1,0.5]) + np.random.randn(1,n)/1000;\n",
    "# c is a column that is approximately a linear combination of\n",
    "# columns 1, 2, 3 and 4. We set the 5th column of X equal to c\n",
    "X[:,p-1] = c\n",
    "beta = np.array([1,1,1,1,0])\n",
    "sigma = 0.333\n",
    "y = np.dot(X,beta) + sigma*np.random.randn(n)\n",
    "# Now let's also generate a test data set\n",
    "n1 = 500 # number of testing points\n",
    "X_test = np.random.randn(n1,p)\n",
    "# In the test set, there's more noise in the 5th column\n",
    "c_test = np.dot(X_test[:,0:p-1],[2,3,-1,0.5]) + np.random.randn(1,n1)/50;\n",
    "X_test[:,p-1] = c_test\n",
    "y_test = np.dot(X_test,beta) + sigma*np.random.randn(n1)"
   ]
  },
  {
   "cell_type": "code",
   "execution_count": 123,
   "metadata": {},
   "outputs": [
    {
     "data": {
      "text/plain": [
       "array([2.70754886e+03, 9.92102220e-06, 1.63134445e+02, 1.48274192e+02,\n",
       "       1.24249394e+02])"
      ]
     },
     "execution_count": 123,
     "metadata": {},
     "output_type": "execute_result"
    }
   ],
   "source": [
    "# Note that the matrix Z = X'X has a very small eigenvalue.\n",
    "Z = np.dot(X.T,X)\n",
    "np.linalg.eig(Z)[0]"
   ]
  },
  {
   "cell_type": "code",
   "execution_count": 124,
   "metadata": {},
   "outputs": [
    {
     "data": {
      "text/plain": [
       "array([1.00796065e+05, 3.69337749e-04, 6.12991329e-03, 6.74426202e-03,\n",
       "       8.04832901e-03])"
      ]
     },
     "execution_count": 124,
     "metadata": {},
     "output_type": "execute_result"
    }
   ],
   "source": [
    "# That means that its inverse has some very big eigenvalues.\n",
    "# In fact, recall that the eigenvalues of the inverse matrix\n",
    "# are always the inverse (one over) the eigenvalues of the original\n",
    "# matrix.\n",
    "np.linalg.eig(np.linalg.inv(Z))[0]"
   ]
  },
  {
   "cell_type": "code",
   "execution_count": 125,
   "metadata": {},
   "outputs": [
    {
     "name": "stdout",
     "output_type": "stream",
     "text": [
      "[-24.5321015  -37.2515343   13.78943233  -5.34666077  12.76279826]\n"
     ]
    }
   ],
   "source": [
    "# And remember that the formula for beta is\n",
    "# beta_hat = (X'X)^-1 X'y\n",
    "# and if we plug in: y = X beta* + Noise \n",
    "# (where beta* is the true solution), we get\n",
    "# beta_hat = beta* + (X'X)^-1 X' Noise\n",
    "#\n",
    "# Multiplying the noise by (X'X)^-1 has the potential to blow up the noise\n",
    "# and this is exactly what happens.\n",
    "\n",
    "beta_hat = np.dot(np.dot(np.linalg.inv(Z),X.T),y.T)\n",
    "print(beta_hat)"
   ]
  },
  {
   "cell_type": "markdown",
   "metadata": {},
   "source": [
    "To see that this is indeed \"noise applification\" go up a few cells and set sigma = 0 (it's set to 0.333 in the original version of this notebook). When you do that, you are setting the additive error in \"y = X \\beta + Noise\" to zero. Hence there is no noise to amplify. Hence there are no problems with the huge eigenvalues of (X'X)^-1, and we still recover the correct answer. But even a little bit of error, and this goes out the window."
   ]
  },
  {
   "cell_type": "code",
   "execution_count": 126,
   "metadata": {},
   "outputs": [
    {
     "data": {
      "text/plain": [
       "9.602589133691426"
      ]
     },
     "execution_count": 126,
     "metadata": {},
     "output_type": "execute_result"
    }
   ],
   "source": [
    "# Now let's compute the test error of OLS.\n",
    "# You can see that it's not that good (it's big).\n",
    "np.linalg.norm(np.dot(X_test,beta_hat) - y_test)"
   ]
  },
  {
   "cell_type": "code",
   "execution_count": 127,
   "metadata": {},
   "outputs": [
    {
     "data": {
      "text/plain": [
       "7.486106995100578"
      ]
     },
     "execution_count": 127,
     "metadata": {},
     "output_type": "execute_result"
    }
   ],
   "source": [
    "# For comparison, the true error for the optimal beta is:\n",
    "np.linalg.norm(np.dot(X_test,beta) - y_test)"
   ]
  },
  {
   "cell_type": "code",
   "execution_count": 128,
   "metadata": {},
   "outputs": [
    {
     "name": "stdout",
     "output_type": "stream",
     "text": [
      "[2.70754886e+03 9.92102220e-06 1.63134445e+02 1.48274192e+02\n",
      " 1.24249394e+02]\n",
      "[2.70769886e+03 1.50009921e-01 1.63284445e+02 1.48424192e+02\n",
      " 1.24399394e+02]\n"
     ]
    }
   ],
   "source": [
    "# Now we will add some regularization -- aka weight decay.\n",
    "# Linear regression plus weight decay also has a closed form solution:\n",
    "#\n",
    "# beta_hat_R = (X'X + mu I)^-1 X'y -- compare to beta_hat = (X'X)^-1 X'y\n",
    "# where I is the p by p identity matrix.\n",
    "# \n",
    "# Adding a small multiple of the identity to X'X barely changes the large eigenvalues, \n",
    "# but it drastically changes the smallest eigenvalue -- it increases it to mu.\n",
    "# Thus in the inverse, the largest eigenvalue will be at most 1/mu.\n",
    "# Let's see this in action\n",
    "#\n",
    "mu = .15\n",
    "print(np.linalg.eig(Z)[0])\n",
    "print(np.linalg.eig(Z + mu*np.eye(p))[0])"
   ]
  },
  {
   "cell_type": "code",
   "execution_count": 129,
   "metadata": {},
   "outputs": [
    {
     "name": "stdout",
     "output_type": "stream",
     "text": [
      "[0.38990525 0.13143335 1.32624255 0.8826206  0.30166679]\n"
     ]
    }
   ],
   "source": [
    "# Now we can form the solution to the weight-decay problem, using\n",
    "# the closed-form formula from above\n",
    "beta_hat_R = np.dot(np.dot(np.linalg.inv(Z + mu*np.eye(p)),X.T),y.T)\n",
    "print(beta_hat_R)"
   ]
  },
  {
   "cell_type": "markdown",
   "metadata": {},
   "source": [
    "Note that in the above, the values are all much more controlled. There is no \"error explosion\" as in the OLS case. You may ask, however: why don't we recover the solution beta* = [1,1,1,1,0]? \n",
    "\n",
    "In fact, we cannot. Think about a case where two columns (say, columns 1 and 2) are identical. Then there's nothing the data can do to differentiate between putting weight on column 1 or column 2 or somehow splitting it between the two. {\\em Any of these options produces exactly the same prediction function}. And note that since column 5 is twice the first plus 3 times the second minus the third plus 1/2 times the fourth, we have above precisely the right solution: 0.53794428 + 2 * 0.23421377 is approximately 1. 0.30061129 + 3 * 0.23421377 is approximately 1. 1.2239305 - 0.23421377 is approximately 1. And 0.87410259 + (1/2)*0.23421377 is approximately 1."
   ]
  },
  {
   "cell_type": "code",
   "execution_count": 130,
   "metadata": {},
   "outputs": [
    {
     "data": {
      "text/plain": [
       "7.525275171910632"
      ]
     },
     "execution_count": 130,
     "metadata": {},
     "output_type": "execute_result"
    }
   ],
   "source": [
    "# Finally, let's compute the test error for the ridge regression solution.\n",
    "np.linalg.norm(np.dot(X_test,beta_hat_R) - y_test)"
   ]
  },
  {
   "cell_type": "code",
   "execution_count": 131,
   "metadata": {},
   "outputs": [
    {
     "name": "stdout",
     "output_type": "stream",
     "text": [
      "[1 1 1 1 0]\n",
      "[-24.5321015  -37.2515343   13.78943233  -5.34666077  12.76279826]\n",
      "[0.38990525 0.13143335 1.32624255 0.8826206  0.30166679]\n"
     ]
    }
   ],
   "source": [
    "# Let's again see the original solution, \n",
    "# the OLS solution (noise explosion), and the weight-decay version\n",
    "# (aka ridge regression)\n",
    "print(beta)\n",
    "print(beta_hat)\n",
    "print(beta_hat_R)"
   ]
  },
  {
   "cell_type": "code",
   "execution_count": 132,
   "metadata": {},
   "outputs": [
    {
     "name": "stdout",
     "output_type": "stream",
     "text": [
      "The test error for the true solution:  7.486106995100578\n",
      "The test error for the OLS solution:  9.602589133691426\n",
      "The test error for the Ridge Regression solution:  7.525275171910632\n"
     ]
    }
   ],
   "source": [
    "# And let's again print the test error for the original solution,\n",
    "# the OLS solution (and hence the impact of noise explosion)\n",
    "# and then the weight-decay (ridge regression) version.\n",
    "#\n",
    "# As you can see, the Ridge-Regression solution has test error\n",
    "# far far closer to the error of the true solution, than\n",
    "# the OLS solution does.\n",
    "\n",
    "print(\"The test error for the true solution: \", np.linalg.norm(np.dot(X_test,beta) - y_test))\n",
    "print(\"The test error for the OLS solution: \", np.linalg.norm(np.dot(X_test,beta_hat) - y_test))\n",
    "print(\"The test error for the Ridge Regression solution: \", np.linalg.norm(np.dot(X_test,beta_hat_R) - y_test))"
   ]
  },
  {
   "cell_type": "markdown",
   "metadata": {},
   "source": [
    "# Visualizing the Bias-Variance Tradeoff"
   ]
  },
  {
   "cell_type": "code",
   "execution_count": 147,
   "metadata": {},
   "outputs": [],
   "source": [
    "# We repeat the entire experiment M times\n",
    "M = 1000\n",
    "# the regularization coeff for ridge is mu\n",
    "mu = 5\n",
    "beta_OLS = np.zeros(M)\n",
    "beta_R5 = np.zeros(M)\n",
    "beta_R10 = np.zeros(M)\n",
    "beta_R25 = np.zeros(M)\n",
    "for i in np.arange(M):\n",
    "        n = 100\n",
    "        X = np.random.randn(n)\n",
    "        beta = 1.75\n",
    "        y = X*beta + np.random.randn(n)*2\n",
    "        beta_OLS[i] = np.dot(X,y)/np.dot(X,X)\n",
    "        beta_R5[i] = np.dot(X,y)/(np.dot(X,X)+5)\n",
    "        beta_R10[i] = np.dot(X,y)/(np.dot(X,X)+10)\n",
    "        beta_R25[i] = np.dot(X,y)/(np.dot(X,X)+25)"
   ]
  },
  {
   "cell_type": "code",
   "execution_count": 149,
   "metadata": {},
   "outputs": [
    {
     "name": "stdout",
     "output_type": "stream",
     "text": [
      "The mean of the OLS solution is:  1.7537829267243255\n",
      "The mean of the Ridge5 solution is:  1.6685707355595347\n",
      "The mean of the Ridge10 solution is:  1.5913894023464195\n",
      "The mean of the Ridge25 solution is:  1.3979527832907663\n"
     ]
    }
   ],
   "source": [
    "print(\"The mean of the OLS solution is: \", np.mean(beta_OLS))\n",
    "print(\"The mean of the Ridge5 solution is: \", np.mean(beta_R5))\n",
    "print(\"The mean of the Ridge10 solution is: \", np.mean(beta_R10))\n",
    "print(\"The mean of the Ridge25 solution is: \", np.mean(beta_R25))"
   ]
  },
  {
   "cell_type": "code",
   "execution_count": 151,
   "metadata": {},
   "outputs": [
    {
     "name": "stdout",
     "output_type": "stream",
     "text": [
      "The standard deviation of the OLS solution is:  0.19697488279815428\n",
      "The standard deviation of the Ridge5 solution is:  0.1879506561301677\n",
      "The standard deviation of the Ridge10 solution is:  0.18033037618649167\n",
      "The standard deviation of the Ridge25 solution is:  0.16286496185602276\n"
     ]
    }
   ],
   "source": [
    "print(\"The standard deviation of the OLS solution is: \", np.std(beta_OLS))\n",
    "print(\"The standard deviation of the Ridge5 solution is: \", np.std(beta_R5))\n",
    "print(\"The standard deviation of the Ridge10 solution is: \", np.std(beta_R10))\n",
    "print(\"The standard deviation of the Ridge25 solution is: \", np.std(beta_R25))"
   ]
  },
  {
   "cell_type": "code",
   "execution_count": 152,
   "metadata": {},
   "outputs": [
    {
     "data": {
      "image/png": "[encoded data removed]",
      "text/plain": [
       "<Figure size 432x288 with 1 Axes>"
      ]
     },
     "metadata": {
      "needs_background": "light"
     },
     "output_type": "display_data"
    }
   ],
   "source": [
    "rng = np.random.RandomState(10)  # deterministic random data\n",
    "a = np.hstack((rng.normal(size=1000),\n",
    "               rng.normal(loc=5, scale=2, size=1000)))\n",
    "_ = plt.hist(beta_OLS, bins='auto')  # arguments are passed to np.histogram\n",
    "plt.title(\"Histogram with 'auto' bins\")\n",
    "plt.show()"
   ]
  },
  {
   "cell_type": "code",
   "execution_count": 153,
   "metadata": {},
   "outputs": [
    {
     "data": {
      "image/png": "[encoded data removed]",
      "text/plain": [
       "<Figure size 432x288 with 1 Axes>"
      ]
     },
     "metadata": {
      "needs_background": "light"
     },
     "output_type": "display_data"
    }
   ],
   "source": [
    "rng = np.random.RandomState(10)  # deterministic random data\n",
    "a = np.hstack((rng.normal(size=1000),\n",
    "               rng.normal(loc=5, scale=2, size=1000)))\n",
    "_ = plt.hist(beta_R5, bins='auto')  # arguments are passed to np.histogram\n",
    "plt.title(\"Histogram with 'auto' bins\")\n",
    "plt.show()"
   ]
  },
  {
   "cell_type": "code",
   "execution_count": 154,
   "metadata": {},
   "outputs": [
    {
     "data": {
      "image/png": "[encoded data removed]",
      "text/plain": [
       "<Figure size 432x288 with 1 Axes>"
      ]
     },
     "metadata": {
      "needs_background": "light"
     },
     "output_type": "display_data"
    }
   ],
   "source": [
    "rng = np.random.RandomState(10)  # deterministic random data\n",
    "a = np.hstack((rng.normal(size=1000),\n",
    "               rng.normal(loc=5, scale=2, size=1000)))\n",
    "_ = plt.hist(beta_R10, bins='auto')  # arguments are passed to np.histogram\n",
    "plt.title(\"Histogram with 'auto' bins\")\n",
    "plt.show()"
   ]
  },
  {
   "cell_type": "code",
   "execution_count": 155,
   "metadata": {},
   "outputs": [
    {
     "data": {
      "image/png": "[encoded data removed]",
      "text/plain": [
       "<Figure size 432x288 with 1 Axes>"
      ]
     },
     "metadata": {
      "needs_background": "light"
     },
     "output_type": "display_data"
    }
   ],
   "source": [
    "rng = np.random.RandomState(10)  # deterministic random data\n",
    "a = np.hstack((rng.normal(size=1000),\n",
    "               rng.normal(loc=5, scale=2, size=1000)))\n",
    "_ = plt.hist(beta_R25, bins='auto')  # arguments are passed to np.histogram\n",
    "plt.title(\"Histogram with 'auto' bins\")\n",
    "plt.show()"
   ]
  },
  {
   "cell_type": "code",
   "execution_count": null,
   "metadata": {},
   "outputs": [],
   "source": []
  },
  {
   "cell_type": "code",
   "execution_count": null,
   "metadata": {},
   "outputs": [],
   "source": []
  }
 ],
 "metadata": {
  "kernelspec": {
   "display_name": "Python 3",
   "language": "python",
   "name": "python3"
  },
  "language_info": {
   "codemirror_mode": {
    "name": "ipython",
    "version": 3
   },
   "file_extension": ".py",
   "mimetype": "text/x-python",
   "name": "python",
   "nbconvert_exporter": "python",
   "pygments_lexer": "ipython3",
   "version": "3.7.4"
  }
 },
 "nbformat": 4,
 "nbformat_minor": 1
}

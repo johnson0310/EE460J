{
  "nbformat": 4,
  "nbformat_minor": 0,
  "metadata": {
    "kernelspec": {
      "display_name": "Python 3",
      "language": "python",
      "name": "python3"
    },
    "language_info": {
      "codemirror_mode": {
        "name": "ipython",
        "version": 3
      },
      "file_extension": ".py",
      "mimetype": "text/x-python",
      "name": "python",
      "nbconvert_exporter": "python",
      "pygments_lexer": "ipython3",
      "version": "3.8.3"
    },
    "colab": {
      "name": "Q3.ipynb",
      "provenance": []
    }
  },
  "cells": [
    {
      "cell_type": "code",
      "metadata": {
        "id": "kwPpv66t1MUr"
      },
      "source": [
        "import numpy as np\n",
        "import matplotlib.pyplot as plt\n",
        "from sklearn import datasets, linear_model\n",
        "from sklearn.preprocessing import MinMaxScaler\n",
        "from sklearn.svm import SVR\n",
        "from sklearn.model_selection import KFold\n",
        "import pandas as pd\n",
        "from pandas import DataFrame, Series\n",
        "import seaborn as sns\n",
        "sns.set(style='ticks', palette='Set2')\n",
        "%matplotlib inline"
      ],
      "execution_count": 8,
      "outputs": []
    },
    {
      "cell_type": "code",
      "metadata": {
        "id": "peYL4XFi1MUx"
      },
      "source": [
        "#read_file = pd.read_csv ('housing.data.txt', header = None, delim_whitespace= True)\n",
        "#read_file.to_csv ('housing_data.csv', index=None)"
      ],
      "execution_count": 10,
      "outputs": []
    },
    {
      "cell_type": "code",
      "metadata": {
        "id": "tL3CKLJa1MUy"
      },
      "source": [
        "housing = pd.read_csv('housing_data.csv')"
      ],
      "execution_count": 11,
      "outputs": []
    },
    {
      "cell_type": "code",
      "metadata": {
        "id": "eXJPdXch1MUy"
      },
      "source": [
        "X = housing.iloc[:, [0, 12]]\n",
        "y = housing.iloc[:, 13]"
      ],
      "execution_count": 12,
      "outputs": []
    },
    {
      "cell_type": "code",
      "metadata": {
        "id": "14CYhfZB1MUy"
      },
      "source": [
        "scaler = MinMaxScaler(feature_range=(0, 1))\n",
        "X = scaler.fit_transform(X)"
      ],
      "execution_count": 13,
      "outputs": []
    },
    {
      "cell_type": "code",
      "metadata": {
        "id": "QoMM5hAd1MUz"
      },
      "source": [
        "bias = []\n",
        "variance_total = []"
      ],
      "execution_count": 14,
      "outputs": []
    },
    {
      "cell_type": "code",
      "metadata": {
        "id": "MnI3URQo1MUz",
        "outputId": "1afaf8ff-68dc-4195-93cd-3cfb6f05da80",
        "colab": {
          "base_uri": "https://localhost:8080/"
        }
      },
      "source": [
        "mean_score = []\n",
        "variance = []\n",
        "best_svr = SVR(kernel='rbf')\n",
        "for i in np.arange(1,100):\n",
        "    scores = []\n",
        "    cv = KFold(5, shuffle= True)\n",
        "    for train_index, test_index in cv.split(X):\n",
        "        X_train, X_test, y_train, y_test = X[train_index], X[test_index], y[train_index], y[test_index]\n",
        "        best_svr.fit(X_train, y_train)\n",
        "        scores.append(best_svr.score(X_test, y_test))\n",
        "    mean_score.append(np.mean(scores))\n",
        "    variance.append(np.std(scores))\n",
        "bias.append(np.mean(mean_score))\n",
        "variance_total.append(np.std(variance))\n",
        "print(\"50 Folds: Mean - \" + str(np.mean(mean_score)) + \" | Variance - \" + str(np.std(variance)))"
      ],
      "execution_count": 15,
      "outputs": [
        {
          "output_type": "stream",
          "text": [
            "50 Folds: Mean - 0.5756046264442204 | Variance - 0.01621214575019245\n"
          ],
          "name": "stdout"
        }
      ]
    },
    {
      "cell_type": "code",
      "metadata": {
        "id": "fNqFudYf1MU0",
        "outputId": "a6b70e79-4d0f-48dc-d9e7-3e24205013a2",
        "colab": {
          "base_uri": "https://localhost:8080/"
        }
      },
      "source": [
        "mean_score = []\n",
        "variance = []\n",
        "best_svr = SVR(kernel='rbf')\n",
        "for i in np.arange(1,100):\n",
        "    scores = []\n",
        "    cv = KFold(10, shuffle= True)\n",
        "    for train_index, test_index in cv.split(X):\n",
        "        X_train, X_test, y_train, y_test = X[train_index], X[test_index], y[train_index], y[test_index]\n",
        "        best_svr.fit(X_train, y_train)\n",
        "        scores.append(best_svr.score(X_test, y_test))\n",
        "    mean_score.append(np.mean(scores))\n",
        "    variance.append(np.std(scores))\n",
        "bias.append(np.mean(mean_score))\n",
        "variance_total.append(np.std(variance))\n",
        "print(\"50 Folds: Mean - \" + str(np.mean(mean_score)) + \" | Variance - \" + str(np.std(variance)))"
      ],
      "execution_count": 16,
      "outputs": [
        {
          "output_type": "stream",
          "text": [
            "50 Folds: Mean - 0.5833956249966143 | Variance - 0.017251725110677237\n"
          ],
          "name": "stdout"
        }
      ]
    },
    {
      "cell_type": "code",
      "metadata": {
        "id": "Lagn0NjD1MU0",
        "outputId": "4eb3431e-fb95-42a0-b783-6605cc4d9e63",
        "colab": {
          "base_uri": "https://localhost:8080/"
        }
      },
      "source": [
        "mean_score = []\n",
        "variance = []\n",
        "best_svr = SVR(kernel='rbf')\n",
        "for i in np.arange(1,100):\n",
        "    scores = []\n",
        "    cv = KFold(20, shuffle= True)\n",
        "    for train_index, test_index in cv.split(X):\n",
        "        X_train, X_test, y_train, y_test = X[train_index], X[test_index], y[train_index], y[test_index]\n",
        "        best_svr.fit(X_train, y_train)\n",
        "        scores.append(best_svr.score(X_test, y_test))\n",
        "    mean_score.append(np.mean(scores))\n",
        "    variance.append(np.std(scores))\n",
        "bias.append(np.mean(mean_score))\n",
        "variance_total.append(np.std(variance))\n",
        "print(\"50 Folds: Mean - \" + str(np.mean(mean_score)) + \" | Variance - \" + str(np.std(variance)))"
      ],
      "execution_count": 17,
      "outputs": [
        {
          "output_type": "stream",
          "text": [
            "50 Folds: Mean - 0.5824509527907801 | Variance - 0.017676315213079788\n"
          ],
          "name": "stdout"
        }
      ]
    },
    {
      "cell_type": "code",
      "metadata": {
        "id": "NBDO3ba01MU1",
        "outputId": "be899d12-79d8-425c-df73-e4c9a30998be",
        "colab": {
          "base_uri": "https://localhost:8080/"
        }
      },
      "source": [
        "mean_score = []\n",
        "variance = []\n",
        "best_svr = SVR(kernel='rbf')\n",
        "for i in np.arange(1,100):\n",
        "    scores = []\n",
        "    cv = KFold(50, shuffle= True)\n",
        "    for train_index, test_index in cv.split(X):\n",
        "        X_train, X_test, y_train, y_test = X[train_index], X[test_index], y[train_index], y[test_index]\n",
        "        best_svr.fit(X_train, y_train)\n",
        "        scores.append(best_svr.score(X_test, y_test))\n",
        "    mean_score.append(np.mean(scores))\n",
        "    variance.append(np.std(scores))\n",
        "bias.append(np.mean(mean_score))\n",
        "variance_total.append(np.std(variance))\n",
        "print(\"50 Folds: Mean - \" + str(np.mean(mean_score)) + \" | Variance - \" + str(np.std(variance)))"
      ],
      "execution_count": 18,
      "outputs": [
        {
          "output_type": "stream",
          "text": [
            "50 Folds: Mean - 0.5438518638280582 | Variance - 0.07102601150329856\n"
          ],
          "name": "stdout"
        }
      ]
    },
    {
      "cell_type": "code",
      "metadata": {
        "id": "-GiRC0Im1MU1",
        "outputId": "453822d8-cf7f-40b6-e4e2-7b2052714578",
        "colab": {
          "base_uri": "https://localhost:8080/"
        }
      },
      "source": [
        "mean_score = []\n",
        "variance = []\n",
        "best_svr = SVR(kernel='rbf')\n",
        "for i in np.arange(1,100):\n",
        "    scores = []\n",
        "    cv = KFold(50, shuffle= True)\n",
        "    for train_index, test_index in cv.split(X):\n",
        "        X_train, X_test, y_train, y_test = X[train_index], X[test_index], y[train_index], y[test_index]\n",
        "        best_svr.fit(X_train, y_train)\n",
        "        scores.append(best_svr.score(X_test, y_test))\n",
        "    mean_score.append(np.mean(scores))\n",
        "    variance.append(np.std(scores))\n",
        "bias.append(np.mean(mean_score))\n",
        "variance_total.append(np.std(variance))\n",
        "print(\"50 Folds: Mean - \" + str(np.mean(mean_score)) + \" | Variance - \" + str(np.std(variance)))"
      ],
      "execution_count": 19,
      "outputs": [
        {
          "output_type": "stream",
          "text": [
            "50 Folds: Mean - 0.5426904073913306 | Variance - 0.2241660726495882\n"
          ],
          "name": "stdout"
        }
      ]
    },
    {
      "cell_type": "code",
      "metadata": {
        "id": "9soJWEiN1MU1"
      },
      "source": [
        "k = [5, 10, 20, 50, 100]"
      ],
      "execution_count": 20,
      "outputs": []
    },
    {
      "cell_type": "code",
      "metadata": {
        "id": "tsJhMYlA1MU2",
        "outputId": "a4b34f89-2a10-48d2-d0ec-ef77425472c9",
        "colab": {
          "base_uri": "https://localhost:8080/",
          "height": 318
        }
      },
      "source": [
        "plt.plot(k, bias)\r\n",
        "plt.title('Bias vs. K-Folds')\r\n",
        "plt.xlabel('Folds')\r\n",
        "plt.ylabel('Bias')"
      ],
      "execution_count": 21,
      "outputs": [
        {
          "output_type": "execute_result",
          "data": {
            "text/plain": [
              "Text(0, 0.5, 'Bias')"
            ]
          },
          "metadata": {
            "tags": []
          },
          "execution_count": 21
        },
        {
          "output_type": "display_data",
          "data": {
            "image/png": "[encoded data removed]",
            "text/plain": [
              "<Figure size 432x288 with 1 Axes>"
            ]
          },
          "metadata": {
            "tags": [],
            "needs_background": "light"
          }
        }
      ]
    },
    {
      "cell_type": "code",
      "metadata": {
        "id": "EvizblHW1MU2",
        "outputId": "c858a3a5-3f7e-42d2-d711-7729ad5748f1",
        "colab": {
          "base_uri": "https://localhost:8080/",
          "height": 318
        }
      },
      "source": [
        "plt.plot(k, variance_total)\r\n",
        "plt.title('Variance vs. K-Folds')\r\n",
        "plt.xlabel('Folds')\r\n",
        "plt.ylabel('Variance')"
      ],
      "execution_count": 22,
      "outputs": [
        {
          "output_type": "execute_result",
          "data": {
            "text/plain": [
              "Text(0, 0.5, 'Variance')"
            ]
          },
          "metadata": {
            "tags": []
          },
          "execution_count": 22
        },
        {
          "output_type": "display_data",
          "data": {
            "image/png": "[encoded data removed]",
            "text/plain": [
              "<Figure size 432x288 with 1 Axes>"
            ]
          },
          "metadata": {
            "tags": [],
            "needs_background": "light"
          }
        }
      ]
    },
    {
      "cell_type": "code",
      "metadata": {
        "id": "yNpMvAwS1MU3"
      },
      "source": [
        "v = np.array(variance_total)"
      ],
      "execution_count": 23,
      "outputs": []
    },
    {
      "cell_type": "code",
      "metadata": {
        "id": "mznlOKQM1MU3",
        "outputId": "e82cf897-cbab-4a4d-e7d0-51e352e61e4f",
        "colab": {
          "base_uri": "https://localhost:8080/",
          "height": 285
        }
      },
      "source": [
        "plt.plot(k, 1/v)\r\n",
        "plt.title('Inverse Variance vs. K-Folds')\r\n",
        "plt.xlabel('Folds')\r\n",
        "plt.ylabel('Inverse Variance')"
      ],
      "execution_count": 24,
      "outputs": [
        {
          "output_type": "execute_result",
          "data": {
            "text/plain": [
              "[<matplotlib.lines.Line2D at 0x7faaf16662d0>]"
            ]
          },
          "metadata": {
            "tags": []
          },
          "execution_count": 24
        },
        {
          "output_type": "display_data",
          "data": {
            "image/png": "[encoded data removed]",
            "text/plain": [
              "<Figure size 432x288 with 1 Axes>"
            ]
          },
          "metadata": {
            "tags": [],
            "needs_background": "light"
          }
        }
      ]
    },
    {
      "cell_type": "code",
      "metadata": {
        "id": "Ti0ig3rb1MU3"
      },
      "source": [
        "# Looking at this simulation, it seems as though the claim that bias increases as variance decreases is true.\n",
        "# However, in this graph, at a small K, our bias inccreases as we get larger rather than decreases.\n",
        "# This is also sometimes true with our Variance. During some iterations, we can see that it decreases at lower folds around 10 to 20 before increasing."
      ],
      "execution_count": null,
      "outputs": []
    }
  ]
}
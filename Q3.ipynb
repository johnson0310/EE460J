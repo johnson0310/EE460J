{
 "cells": [
  {
   "cell_type": "code",
   "execution_count": 110,
   "metadata": {},
   "outputs": [],
   "source": [
    "import numpy as np\n",
    "import matplotlib.pyplot as plt\n",
    "from sklearn import datasets, linear_model\n",
    "from sklearn.preprocessing import MinMaxScaler\n",
    "from sklearn.svm import SVR\n",
    "from sklearn.model_selection import KFold\n",
    "import pandas as pd\n",
    "from pandas import DataFrame, Series\n",
    "import seaborn as sns\n",
    "sns.set(style='ticks', palette='Set2')\n",
    "%matplotlib inline"
   ]
  },
  {
   "cell_type": "code",
   "execution_count": 111,
   "metadata": {},
   "outputs": [],
   "source": [
    "read_file = pd.read_csv ('housing.data.txt', header = None, delim_whitespace= True)\n",
    "read_file.to_csv ('housing_data.csv', index=None)"
   ]
  },
  {
   "cell_type": "code",
   "execution_count": 112,
   "metadata": {},
   "outputs": [],
   "source": [
    "housing = pd.read_csv('housing_data.csv')"
   ]
  },
  {
   "cell_type": "code",
   "execution_count": 113,
   "metadata": {},
   "outputs": [],
   "source": [
    "X = housing.iloc[:, [0, 12]]\n",
    "y = housing.iloc[:, 13]"
   ]
  },
  {
   "cell_type": "code",
   "execution_count": 114,
   "metadata": {},
   "outputs": [],
   "source": [
    "scaler = MinMaxScaler(feature_range=(0, 1))\n",
    "X = scaler.fit_transform(X)"
   ]
  },
  {
   "cell_type": "code",
   "execution_count": 115,
   "metadata": {},
   "outputs": [],
   "source": [
    "bias = []\n",
    "variance_total = []"
   ]
  },
  {
   "cell_type": "code",
   "execution_count": 116,
   "metadata": {},
   "outputs": [
    {
     "name": "stdout",
     "output_type": "stream",
     "text": [
      "50 Folds: Mean - 0.5757919692524067 | Variance - 0.015795571237436613\n"
     ]
    }
   ],
   "source": [
    "mean_score = []\n",
    "variance = []\n",
    "best_svr = SVR(kernel='rbf')\n",
    "for i in np.arange(1,100):\n",
    "    scores = []\n",
    "    cv = KFold(5, shuffle= True)\n",
    "    for train_index, test_index in cv.split(X):\n",
    "        X_train, X_test, y_train, y_test = X[train_index], X[test_index], y[train_index], y[test_index]\n",
    "        best_svr.fit(X_train, y_train)\n",
    "        scores.append(best_svr.score(X_test, y_test))\n",
    "    mean_score.append(np.mean(scores))\n",
    "    variance.append(np.std(scores))\n",
    "bias.append(np.mean(mean_score))\n",
    "variance_total.append(np.std(variance))\n",
    "print(\"50 Folds: Mean - \" + str(np.mean(mean_score)) + \" | Variance - \" + str(np.std(variance)))"
   ]
  },
  {
   "cell_type": "code",
   "execution_count": 117,
   "metadata": {},
   "outputs": [
    {
     "name": "stdout",
     "output_type": "stream",
     "text": [
      "50 Folds: Mean - 0.5837544143067722 | Variance - 0.017280228900954188\n"
     ]
    }
   ],
   "source": [
    "mean_score = []\n",
    "variance = []\n",
    "best_svr = SVR(kernel='rbf')\n",
    "for i in np.arange(1,100):\n",
    "    scores = []\n",
    "    cv = KFold(10, shuffle= True)\n",
    "    for train_index, test_index in cv.split(X):\n",
    "        X_train, X_test, y_train, y_test = X[train_index], X[test_index], y[train_index], y[test_index]\n",
    "        best_svr.fit(X_train, y_train)\n",
    "        scores.append(best_svr.score(X_test, y_test))\n",
    "    mean_score.append(np.mean(scores))\n",
    "    variance.append(np.std(scores))\n",
    "bias.append(np.mean(mean_score))\n",
    "variance_total.append(np.std(variance))\n",
    "print(\"50 Folds: Mean - \" + str(np.mean(mean_score)) + \" | Variance - \" + str(np.std(variance)))"
   ]
  },
  {
   "cell_type": "code",
   "execution_count": 118,
   "metadata": {},
   "outputs": [
    {
     "name": "stdout",
     "output_type": "stream",
     "text": [
      "50 Folds: Mean - 0.5827062004494769 | Variance - 0.01598240009972824\n"
     ]
    }
   ],
   "source": [
    "mean_score = []\n",
    "variance = []\n",
    "best_svr = SVR(kernel='rbf')\n",
    "for i in np.arange(1,100):\n",
    "    scores = []\n",
    "    cv = KFold(20, shuffle= True)\n",
    "    for train_index, test_index in cv.split(X):\n",
    "        X_train, X_test, y_train, y_test = X[train_index], X[test_index], y[train_index], y[test_index]\n",
    "        best_svr.fit(X_train, y_train)\n",
    "        scores.append(best_svr.score(X_test, y_test))\n",
    "    mean_score.append(np.mean(scores))\n",
    "    variance.append(np.std(scores))\n",
    "bias.append(np.mean(mean_score))\n",
    "variance_total.append(np.std(variance))\n",
    "print(\"50 Folds: Mean - \" + str(np.mean(mean_score)) + \" | Variance - \" + str(np.std(variance)))"
   ]
  },
  {
   "cell_type": "code",
   "execution_count": 119,
   "metadata": {},
   "outputs": [
    {
     "name": "stdout",
     "output_type": "stream",
     "text": [
      "50 Folds: Mean - 0.5496511940752106 | Variance - 0.06057757606965267\n"
     ]
    }
   ],
   "source": [
    "mean_score = []\n",
    "variance = []\n",
    "best_svr = SVR(kernel='rbf')\n",
    "for i in np.arange(1,100):\n",
    "    scores = []\n",
    "    cv = KFold(50, shuffle= True)\n",
    "    for train_index, test_index in cv.split(X):\n",
    "        X_train, X_test, y_train, y_test = X[train_index], X[test_index], y[train_index], y[test_index]\n",
    "        best_svr.fit(X_train, y_train)\n",
    "        scores.append(best_svr.score(X_test, y_test))\n",
    "    mean_score.append(np.mean(scores))\n",
    "    variance.append(np.std(scores))\n",
    "bias.append(np.mean(mean_score))\n",
    "variance_total.append(np.std(variance))\n",
    "print(\"50 Folds: Mean - \" + str(np.mean(mean_score)) + \" | Variance - \" + str(np.std(variance)))"
   ]
  },
  {
   "cell_type": "code",
   "execution_count": 120,
   "metadata": {},
   "outputs": [
    {
     "name": "stdout",
     "output_type": "stream",
     "text": [
      "50 Folds: Mean - 0.5451087037714807 | Variance - 0.09422791643167801\n"
     ]
    }
   ],
   "source": [
    "mean_score = []\n",
    "variance = []\n",
    "best_svr = SVR(kernel='rbf')\n",
    "for i in np.arange(1,100):\n",
    "    scores = []\n",
    "    cv = KFold(50, shuffle= True)\n",
    "    for train_index, test_index in cv.split(X):\n",
    "        X_train, X_test, y_train, y_test = X[train_index], X[test_index], y[train_index], y[test_index]\n",
    "        best_svr.fit(X_train, y_train)\n",
    "        scores.append(best_svr.score(X_test, y_test))\n",
    "    mean_score.append(np.mean(scores))\n",
    "    variance.append(np.std(scores))\n",
    "bias.append(np.mean(mean_score))\n",
    "variance_total.append(np.std(variance))\n",
    "print(\"50 Folds: Mean - \" + str(np.mean(mean_score)) + \" | Variance - \" + str(np.std(variance)))"
   ]
  },
  {
   "cell_type": "code",
   "execution_count": 121,
   "metadata": {},
   "outputs": [],
   "source": [
    "k = [5, 10, 20, 50, 100]"
   ]
  },
  {
   "cell_type": "code",
   "execution_count": 122,
   "metadata": {},
   "outputs": [
    {
     "data": {
      "text/plain": [
       "[<matplotlib.lines.Line2D at 0x24e8144b370>]"
      ]
     },
     "execution_count": 122,
     "metadata": {},
     "output_type": "execute_result"
    },
    {
     "data": {
      "image/png": "[encoded data removed]",
      "text/plain": [
       "<Figure size 432x288 with 1 Axes>"
      ]
     },
     "metadata": {
      "needs_background": "light"
     },
     "output_type": "display_data"
    }
   ],
   "source": [
    "plt.plot(k, bias)"
   ]
  },
  {
   "cell_type": "code",
   "execution_count": 132,
   "metadata": {},
   "outputs": [
    {
     "data": {
      "text/plain": [
       "[<matplotlib.lines.Line2D at 0x24e8165feb0>]"
      ]
     },
     "execution_count": 132,
     "metadata": {},
     "output_type": "execute_result"
    },
    {
     "data": {
      "image/png": "[encoded data removed]",
      "text/plain": [
       "<Figure size 432x288 with 1 Axes>"
      ]
     },
     "metadata": {
      "needs_background": "light"
     },
     "output_type": "display_data"
    }
   ],
   "source": [
    "plt.plot(k, variance_total)"
   ]
  },
  {
   "cell_type": "code",
   "execution_count": 133,
   "metadata": {},
   "outputs": [],
   "source": [
    "v = np.array(variance_total)"
   ]
  },
  {
   "cell_type": "code",
   "execution_count": 134,
   "metadata": {},
   "outputs": [
    {
     "data": {
      "text/plain": [
       "[<matplotlib.lines.Line2D at 0x24e816b8a90>]"
      ]
     },
     "execution_count": 134,
     "metadata": {},
     "output_type": "execute_result"
    },
    {
     "data": {
      "image/png": "[encoded data removed]",
      "text/plain": [
       "<Figure size 432x288 with 1 Axes>"
      ]
     },
     "metadata": {
      "needs_background": "light"
     },
     "output_type": "display_data"
    }
   ],
   "source": [
    "plt.plot(k, 1/v)"
   ]
  },
  {
   "cell_type": "code",
   "execution_count": null,
   "metadata": {},
   "outputs": [],
   "source": [
    "# Looking at this simulation, it seems as though the claim that bias increases as variance decreases is true.\n",
    "# However, in this graph, at a small K, our bias inccreases as we get larger rather than decreases.\n",
    "# This is also true with our Variance. We can see that it decreases as we move from 10 to 20 folds before increasing."
   ]
  }
 ],
 "metadata": {
  "kernelspec": {
   "display_name": "Python 3",
   "language": "python",
   "name": "python3"
  },
  "language_info": {
   "codemirror_mode": {
    "name": "ipython",
    "version": 3
   },
   "file_extension": ".py",
   "mimetype": "text/x-python",
   "name": "python",
   "nbconvert_exporter": "python",
   "pygments_lexer": "ipython3",
   "version": "3.8.3"
  }
 },
 "nbformat": 4,
 "nbformat_minor": 4
}
